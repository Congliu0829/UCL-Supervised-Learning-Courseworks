{
  "cells": [
    {
      "cell_type": "markdown",
      "id": "MZehtIdy9UOM",
      "metadata": {
        "id": "MZehtIdy9UOM"
      },
      "source": [
        "## Part I\n",
        "\n",
        "\n"
      ]
    },
    {
      "cell_type": "markdown",
      "id": "5i7wkG4O9UOQ",
      "metadata": {
        "id": "5i7wkG4O9UOQ"
      },
      "source": [
        "### Excercise 1"
      ]
    },
    {
      "cell_type": "code",
      "execution_count": null,
      "id": "ZC6TnjhtwNN4",
      "metadata": {
        "id": "ZC6TnjhtwNN4"
      },
      "outputs": [],
      "source": [
        "import numpy as np\n",
        "from numpy.linalg import inv\n",
        "import matplotlib.pyplot as plt"
      ]
    },
    {
      "cell_type": "markdown",
      "id": "FuO1AjRjwQOd",
      "metadata": {
        "id": "FuO1AjRjwQOd"
      },
      "source": [
        "#### 1.a"
      ]
    },
    {
      "cell_type": "code",
      "execution_count": null,
      "id": "PpCWeFghwSD2",
      "metadata": {
        "id": "PpCWeFghwSD2"
      },
      "outputs": [],
      "source": [
        "# Define functions for all the rest of exercise 1\n",
        "def phi_x(x, k):\n",
        "    '''\n",
        "    For a given input and degree k, return its feature map with \n",
        "        k-degree polynomial basis\n",
        "\n",
        "    Input: -x: array, input training data\n",
        "\n",
        "           -k: int, degree of the basis\n",
        "\n",
        "    Output: array but change each element in the original x to an\n",
        "                array with k elements \n",
        "    '''\n",
        "    feature_mapped_x = [[] for i in range(len(x))]\n",
        "    for i in range(len(x)):\n",
        "        feature_mapped_x[i] = [(x[i] ** m) for m in range(0, k)]\n",
        "    return np.array(feature_mapped_x)\n",
        "\n",
        "\n",
        "def weight(x, g):\n",
        "    '''\n",
        "    Compute w = (X_T·X)^(-1)X_T·y\n",
        "\n",
        "    Input: -x: array, feature map of x\n",
        "\n",
        "           -g: array, y data\n",
        "\n",
        "    Output: array with dimention of features\n",
        "    '''\n",
        "    return np.matmul(np.matmul(inv(np.matmul(x.T, x)), x.T), g)\n",
        "\n",
        "\n",
        "def cal_mse(g, g_predict, k):\n",
        "    '''\n",
        "    Compute mse with given y data and predicted y data\n",
        "\n",
        "    Input: -g: array, y data\n",
        "\n",
        "           -g_predict: array, predicted y data\n",
        "\n",
        "           -k: int, degree of basis\n",
        "\n",
        "    Output: int, the value of mse\n",
        "    '''\n",
        "    mse = 0\n",
        "    for i in range(len(g)):\n",
        "        mse += (g[i] - g_predict[i]) ** 2\n",
        "    return mse / len(g)\n",
        "\n",
        "\n",
        "def predict(x, g, k):\n",
        "    '''\n",
        "    Get predicted y data and weight. First get feature map of x, then calculate\n",
        "        the weight, and finally get y_hat = phi·weight\n",
        "    \n",
        "    Input: -x: array, training input\n",
        "\n",
        "           -g: array, training label\n",
        "\n",
        "    Output: -y_hat: array, predicted y with training data\n",
        "\n",
        "            -w: array, dimention equal to features\n",
        "    '''\n",
        "    phix = phi_x(x, k)\n",
        "    w = weight(phix, g)\n",
        "    return np.matmul(phix, w), w\n",
        "\n",
        "\n",
        "def test(x, k, w):\n",
        "    '''\n",
        "    Get predicted y with testing inputs and trained weight\n",
        "\n",
        "    Input: -x: array, testing input\n",
        "\n",
        "           -k: int, degree of basis\n",
        "\n",
        "           -w: array, trained weight\n",
        "\n",
        "    Output: array, predicted test y\n",
        "    '''\n",
        "    phix_test = phi_x(x, k)\n",
        "    return np.matmul(phix_test, w)"
      ]
    },
    {
      "cell_type": "code",
      "execution_count": null,
      "id": "kevTJRZ6wdf1",
      "metadata": {
        "colab": {
          "base_uri": "https://localhost:8080/"
        },
        "id": "kevTJRZ6wdf1",
        "outputId": "4904e66d-42f8-4d07-bc90-782909db148b"
      },
      "outputs": [
        {
          "data": {
            "image/png": "[encoded data removed]",
            "text/plain": [
              "<Figure size 432x288 with 1 Axes>"
            ]
          },
          "metadata": {
            "needs_background": "light"
          },
          "output_type": "display_data"
        }
      ],
      "source": [
        "# Initialization of data\n",
        "k_list = [1,2,3,4]\n",
        "x = np.array([1,2,3,4])\n",
        "y = np.array([3,2,0,5])\n",
        "plot_x = np.arange(0,4.3,1e-3) # points for ploting curve\n",
        "\n",
        "w_list, y_hat_plot_list = [], []\n",
        "for k in k_list:\n",
        "    y_hat, w = predict(x, y, k)\n",
        "    w_list.append(w)\n",
        "    y_hat_plot_list.append(test(plot_x, k, w))\n",
        "\n",
        "\n",
        "fig, ax = plt.subplots()\n",
        "ax.scatter(x, y, label='data')\n",
        "for i in range(len(k_list)):\n",
        "    ax.plot(plot_x, y_hat_plot_list[i], label='predicted curve with k={}'.format(k_list[i]))\n",
        "plt.legend()\n",
        "plt.xlim([0,4.5])\n",
        "plt.grid()\n",
        "plt.savefig(\"1-1-a\",dpi=500)\n",
        "plt.show()"
      ]
    },
    {
      "cell_type": "markdown",
      "id": "dIdSMB3pwgrP",
      "metadata": {
        "id": "dIdSMB3pwgrP"
      },
      "source": [
        "#### 1.b"
      ]
    },
    {
      "cell_type": "code",
      "execution_count": null,
      "id": "V7un64a-wiq1",
      "metadata": {
        "colab": {
          "base_uri": "https://localhost:8080/"
        },
        "id": "V7un64a-wiq1",
        "outputId": "bb5bf599-64d2-4a7a-a64a-cd7fdb6cf794"
      },
      "outputs": [
        {
          "name": "stdout",
          "output_type": "stream",
          "text": [
            "[array([2.5]), array([1.5, 0.4]), array([ 9. , -7.1,  1.5]), array([-5.        , 15.16666667, -8.5       ,  1.33333333])]\n",
            "k=1, y=2.5\n",
            "k=2, y=1.5+0.4x\n",
            "k=3, y=9-7.1x+1.5x^2\n",
            "k=4, y=-5+15.17x-8.5x^2+1.33x^3\n"
          ]
        }
      ],
      "source": [
        "print(w_list)\n",
        "# # the list of w with different degree k. Each element is the coordinates from degree 0 to k\n",
        "\n",
        "# print(\"k=1, y=2.5\")\n",
        "# print(\"k=2, y=1.5+0.4x\")\n",
        "# print(\"k=3, y=9-7.1x+1.5x^2\")\n",
        "# print(\"k=4, y=-5+15.17x-8.5x^2+1.33x^3\")"
      ]
    },
    {
      "cell_type": "markdown",
      "id": "C8Df6-Zgwmy-",
      "metadata": {
        "id": "C8Df6-Zgwmy-"
      },
      "source": [
        "#### 1.c"
      ]
    },
    {
      "cell_type": "code",
      "execution_count": null,
      "id": "tmsazFnfwtEc",
      "metadata": {
        "colab": {
          "base_uri": "https://localhost:8080/"
        },
        "id": "tmsazFnfwtEc",
        "outputId": "9ffd7a6a-c253-4c6f-f113-f5b6b413fa11"
      },
      "outputs": [
        {
          "name": "stdout",
          "output_type": "stream",
          "text": [
            "[3.25, 3.05, 0.800000000000001, 5.293827809328369e-24]\n"
          ]
        }
      ],
      "source": [
        "mse_list = []\n",
        "for i in range(4):\n",
        "    y_hat = test(x, k_list[i], w_list[i])\n",
        "    mse_list.append(cal_mse(y, y_hat, k_list[i]))\n",
        "print(mse_list) # The list of mse with different k"
      ]
    },
    {
      "cell_type": "markdown",
      "id": "uvCkaF8FEccp",
      "metadata": {
        "id": "uvCkaF8FEccp"
      },
      "source": [
        "### Excercise 2"
      ]
    },
    {
      "cell_type": "code",
      "execution_count": null,
      "id": "HtaLO3pOGD9D",
      "metadata": {
        "id": "HtaLO3pOGD9D"
      },
      "outputs": [],
      "source": [
        "# Initialization for librarys and k lists\n",
        "import matplotlib.pyplot as plt\n",
        "import numpy as np\n",
        "from numpy.linalg import inv\n",
        "k_list1 = [2, 5, 10, 14, 18]\n",
        "k_list2 = [i for i in range(1, 19)]"
      ]
    },
    {
      "cell_type": "markdown",
      "id": "PKps654PF7OQ",
      "metadata": {
        "id": "PKps654PF7OQ"
      },
      "source": [
        "##### 2-(a)-i"
      ]
    },
    {
      "cell_type": "code",
      "execution_count": null,
      "id": "xOsDOdqQpOAK",
      "metadata": {
        "colab": {
          "base_uri": "https://localhost:8080/",
          "height": 279
        },
        "id": "xOsDOdqQpOAK",
        "outputId": "dbd625d2-9701-4ee2-868e-6bcf2b9823da"
      },
      "outputs": [
        {
          "data": {
            "image/png": "[encoded data removed]",
            "text/plain": [
              "<Figure size 432x288 with 1 Axes>"
            ]
          },
          "metadata": {
            "needs_background": "light"
          },
          "output_type": "display_data"
        }
      ],
      "source": [
        "# Data-point initialization\n",
        "from matplotlib.pyplot import figure\n",
        "x = np.random.uniform(0, 1, 30)\n",
        "epsilon = np.random.normal(0, 0.07, 30)\n",
        "g = (np.sin(2 * np.pi * x))**2 + epsilon\n",
        "\n",
        "# Print data points and functions\n",
        "fig, ax = plt.subplots()\n",
        "ax.scatter(x, g, label='randomly generated data points')\n",
        "function_x = np.arange(0, 1, 0.0001)\n",
        "ax.plot(function_x, (np.sin(2 * np.pi * function_x))**2, label='g(x)')\n",
        "\n",
        "plt.grid()\n",
        "plt.xlim([0,1])\n",
        "plt.xlabel('x')\n",
        "plt.ylabel('g(x)')\n",
        "plt.legend()\n",
        "plt.savefig(\"1-2-a-i\",dpi=500)\n",
        "\n",
        "plt.show()"
      ]
    },
    {
      "cell_type": "markdown",
      "id": "jOWgNm1_GfuO",
      "metadata": {
        "id": "jOWgNm1_GfuO"
      },
      "source": [
        "##### 2-(a)-ii"
      ]
    },
    {
      "cell_type": "code",
      "execution_count": null,
      "id": "VEulj1u5GeDl",
      "metadata": {
        "id": "VEulj1u5GeDl"
      },
      "outputs": [],
      "source": [
        "# Define functions for all the rest of exercise 2\n",
        "def phi_x(x, k):\n",
        "    '''\n",
        "    For a given input and degree k, return its feature map with \n",
        "        k-degree polynomial basis\n",
        "\n",
        "    Input: -x: array, input training data\n",
        "\n",
        "           -k: int, degree of the basis\n",
        "\n",
        "    Output: array but change each element in the original x to an\n",
        "            array with k elements \n",
        "    '''\n",
        "    feature_mapped_x = [[] for i in range(len(x))]\n",
        "    for i in range(len(x)):\n",
        "        feature_mapped_x[i] = [(x[i] ** m) for m in range(0, k)]\n",
        "    return np.array(feature_mapped_x)\n",
        "\n",
        "\n",
        "def weight(x, g):\n",
        "    '''\n",
        "    Compute w = (X_T·X)^(-1)X_T·y\n",
        "\n",
        "    Input: -x: array, feature map of x\n",
        "\n",
        "           -g: array, y data\n",
        "\n",
        "    Output: array with dimention of features\n",
        "    '''\n",
        "    return np.matmul(np.matmul(inv(np.matmul(x.T, x)), x.T), g)\n",
        "\n",
        "\n",
        "def cal_mse(g, g_predict, k):\n",
        "    '''\n",
        "    Compute mse with given y data and predicted y data\n",
        "\n",
        "    Input: -g: array, y data\n",
        "\n",
        "           -g_predict: array, predicted y data\n",
        "\n",
        "           -k: int, degree of basis\n",
        "\n",
        "    Output: int, the value of mse\n",
        "    '''\n",
        "    mse = 0\n",
        "    for i in range(len(g)):\n",
        "        mse += (g[i] - g_predict[i]) ** 2\n",
        "    return mse / len(g)\n",
        "\n",
        "\n",
        "def predict(x, g, k):\n",
        "    '''\n",
        "    Get predicted y data and weight. First get feature map of x, then calculate\n",
        "        the weight, and finally get y_hat = phi·weight\n",
        "    \n",
        "    Input: -x: array, training input\n",
        "\n",
        "           -g: array, training label\n",
        "\n",
        "    Output: -y_hat: array, predicted y with training data\n",
        "\n",
        "            -w: array, dimention equal to features\n",
        "    '''\n",
        "    phix = phi_x(x, k)\n",
        "    w = weight(phix, g)\n",
        "    return np.matmul(phix, w), w\n",
        "\n",
        "\n",
        "def test(x, k, w):\n",
        "    '''\n",
        "    Get predicted y with testing inputs and trained weight\n",
        "\n",
        "    Input: -x: array, testing input\n",
        "\n",
        "           -k: int, degree of basis\n",
        "\n",
        "           -w: array, trained weight\n",
        "\n",
        "    Output: array, predicted test y\n",
        "    '''\n",
        "    phix_test = phi_x(x, k)\n",
        "    return np.matmul(phix_test, w)\n",
        "\n",
        "\n",
        "def plotcurve(x, g, x_plot, g_predict, k):\n",
        "    '''\n",
        "    Plot the trained curve with weight\n",
        "\n",
        "    Input: -x: array, training input\n",
        "\n",
        "           -g: array, training label\n",
        "\n",
        "           -x_plot: array, generated x points waiting to be predicted\n",
        "\n",
        "           -g_predict: array, predicted training y\n",
        "\n",
        "           -k: int, degree of basis\n",
        "    '''\n",
        "    # Pair x and y_predict, then sort the points\n",
        "    g_dict, g_predict_dict = {}, {}\n",
        "    for i in range(len(x)):\n",
        "        g_dict[x[i]] = g[i]\n",
        "        g_predict_dict[x[i]] = g_predict[i]\n",
        "    for i in range(len(x)):\n",
        "        g[i] = g_dict[x[i]]\n",
        "        g_predict[i] = g_predict_dict[x[i]] \n",
        "\n",
        "    fig, ax = plt.subplots()\n",
        "    ax.scatter(x, g, label='data points', c  = 'r')\n",
        "    ax.plot(x_plot, g_predict, label='predicted function', c = \"b\")\n",
        "    plt.title('k = {0}'.format(k))\n",
        "    plt.legend()\n",
        "    plt.grid()\n",
        "    plt.savefig(\"1-2-a-ii_\" + str(k))\n",
        "    plt.show()"
      ]
    },
    {
      "cell_type": "code",
      "execution_count": null,
      "id": "0wAusOYLG02h",
      "metadata": {
        "colab": {
          "base_uri": "https://localhost:8080/",
          "height": 1000
        },
        "id": "0wAusOYLG02h",
        "outputId": "d650b11a-4108-47c9-f5b5-c8b790f812ea"
      },
      "outputs": [
        {
          "data": {
            "image/png": "[encoded data removed]",
            "text/plain": [
              "<Figure size 432x288 with 1 Axes>"
            ]
          },
          "metadata": {
            "needs_background": "light"
          },
          "output_type": "display_data"
        },
        {
          "data": {
            "image/png": "[encoded data removed]",
            "text/plain": [
              "<Figure size 432x288 with 1 Axes>"
            ]
          },
          "metadata": {
            "needs_background": "light"
          },
          "output_type": "display_data"
        },
        {
          "data": {
            "image/png": "[encoded data removed]",
            "text/plain": [
              "<Figure size 432x288 with 1 Axes>"
            ]
          },
          "metadata": {
            "needs_background": "light"
          },
          "output_type": "display_data"
        },
        {
          "data": {
            "image/png": "[encoded data removed]",
            "text/plain": [
              "<Figure size 432x288 with 1 Axes>"
            ]
          },
          "metadata": {
            "needs_background": "light"
          },
          "output_type": "display_data"
        },
        {
          "data": {
            "image/png": "[encoded data removed]",
            "text/plain": [
              "<Figure size 432x288 with 1 Axes>"
            ]
          },
          "metadata": {
            "needs_background": "light"
          },
          "output_type": "display_data"
        }
      ],
      "source": [
        "# Plot different curves with k's\n",
        "for k in k_list1:\n",
        "\tg_predict, w = predict(x, g, k)\n",
        "\tx_plot = np.arange(0,1,0.0001)\n",
        "\tg_plot = test(x_plot, k, w)\n",
        "\tplotcurve(x, g, x_plot, g_plot, k)\n",
        "\t"
      ]
    },
    {
      "cell_type": "markdown",
      "id": "vNkfAN2oHB5B",
      "metadata": {
        "id": "vNkfAN2oHB5B"
      },
      "source": [
        "##### 2-(b)"
      ]
    },
    {
      "cell_type": "code",
      "execution_count": null,
      "id": "5CtwVAoDHD54",
      "metadata": {
        "colab": {
          "base_uri": "https://localhost:8080/",
          "height": 265
        },
        "id": "5CtwVAoDHD54",
        "outputId": "5a9eec11-caec-4c60-d7e8-d085703bca2c"
      },
      "outputs": [
        {
          "data": {
            "image/png": "[encoded data removed]",
            "text/plain": [
              "<Figure size 432x288 with 1 Axes>"
            ]
          },
          "metadata": {
            "needs_background": "light"
          },
          "output_type": "display_data"
        }
      ],
      "source": [
        "# Plot log(mse) for different k\n",
        "mse_list = []\n",
        "for k in k_list2:\n",
        "    g_predict, w = predict(x, g, k)\n",
        "    mse = cal_mse(g, g_predict, k)\n",
        "    mse_list.append(mse)\n",
        "plt.plot(k_list2, np.log(mse_list), label='log(mse)')\n",
        "plt.legend()\n",
        "plt.grid()\n",
        "plt.show()"
      ]
    },
    {
      "cell_type": "markdown",
      "id": "_GBtvp7OHSc5",
      "metadata": {
        "id": "_GBtvp7OHSc5"
      },
      "source": [
        "##### 2-(c)"
      ]
    },
    {
      "cell_type": "code",
      "execution_count": null,
      "id": "280EamNZHUb-",
      "metadata": {
        "colab": {
          "base_uri": "https://localhost:8080/"
        },
        "id": "280EamNZHUb-",
        "outputId": "b92d8276-3cb9-4eb6-8855-8b571739d922"
      },
      "outputs": [
        {
          "data": {
            "image/png": "[encoded data removed]",
            "text/plain": [
              "<Figure size 432x288 with 1 Axes>"
            ]
          },
          "metadata": {
            "needs_background": "light"
          },
          "output_type": "display_data"
        }
      ],
      "source": [
        "# Initialize test-pool datapoints\n",
        "x_test = np.random.uniform(0, 1, 1000)\n",
        "epsilon_test = np.random.normal(0, 0.07, 1000)\n",
        "g_test = (np.sin(2 * np.pi * x_test))**2 + epsilon_test\n",
        "\n",
        "mse_test_list = []\n",
        "for k in k_list2:\n",
        "    g_predict, w = predict(x, g, k)\n",
        "    g_predict_test = test(x_test, k, w)\n",
        "    test_mse = cal_mse(g_test, g_predict_test, k)\n",
        "    mse_test_list.append(test_mse)\n",
        "plt.plot(k_list2, np.log(mse_test_list), label='log(mse)')\n",
        "plt.legend()\n",
        "plt.grid()\n",
        "plt.show()"
      ]
    },
    {
      "cell_type": "markdown",
      "id": "3Lvy0BDkHm_Y",
      "metadata": {
        "id": "3Lvy0BDkHm_Y"
      },
      "source": [
        "##### 2-(d)"
      ]
    },
    {
      "cell_type": "code",
      "execution_count": null,
      "id": "6iloI_qhHo-H",
      "metadata": {
        "id": "6iloI_qhHo-H"
      },
      "outputs": [],
      "source": [
        "# repeat 2-(b) and 2-(c) with 100 epochs\n",
        "mse_train_list = []\n",
        "mse_test_list = []\n",
        "\n",
        "for k in k_list2:\n",
        "    mse_train = 0\n",
        "    mse_test = 0\n",
        "    epoch = 0\n",
        "    while epoch < 100:\n",
        "        # Generate data for each epoch\n",
        "        x = np.random.uniform(0, 1, 30)\n",
        "        epsilon = np.random.normal(0, 0.07, 30)\n",
        "        g = (np.sin(2 * np.pi * x))**2 + epsilon\n",
        "        x_test = np.random.uniform(0, 1, 1000)\n",
        "        epsilon_test = np.random.normal(0, 0.07, 1000)\n",
        "        g_test = (np.sin(2 * np.pi * x_test))**2 + epsilon_test\n",
        "        ### train and get trained mse\n",
        "        g_predict, w = predict(x, g, k)\n",
        "        g_predict_test = test(x_test, k, w)\n",
        "        mse_train += cal_mse(g_predict, g, k)\n",
        "        mse_test += cal_mse(g_test, g_predict_test, k)\n",
        "        epoch += 1\n",
        "    # Get the average mse values\n",
        "    mse_train_list.append(mse_train/100)\n",
        "    mse_test_list.append(mse_test/100)\n",
        "\n"
      ]
    },
    {
      "cell_type": "code",
      "execution_count": null,
      "id": "HWGbCxWmbIGG",
      "metadata": {
        "colab": {
          "base_uri": "https://localhost:8080/",
          "height": 280
        },
        "id": "HWGbCxWmbIGG",
        "outputId": "3df29f4b-366e-4503-982c-685afaccd7ff"
      },
      "outputs": [
        {
          "data": {
            "image/png": "[encoded data removed]",
            "text/plain": [
              "<Figure size 432x288 with 1 Axes>"
            ]
          },
          "metadata": {
            "needs_background": "light"
          },
          "output_type": "display_data"
        }
      ],
      "source": [
        "# Plot curves with ln(avg)\n",
        "plt.plot(k_list2, np.log(mse_train_list), label='train')\n",
        "plt.plot(k_list2, np.log(mse_test_list), label='test')\n",
        "plt.legend()\n",
        "plt.xlabel(\"Polynomial dimensions\")\n",
        "plt.ylabel(\"ln(Mean Squared Error)\")\n",
        "plt.grid()\n",
        "plt.savefig(\"1-2-d\", dpi=500)\n",
        "plt.show()"
      ]
    },
    {
      "cell_type": "markdown",
      "id": "9aNdhBIFzl7i",
      "metadata": {
        "id": "9aNdhBIFzl7i"
      },
      "source": [
        "### Excercise 3"
      ]
    },
    {
      "cell_type": "code",
      "execution_count": null,
      "id": "dcAhmn932Lko",
      "metadata": {
        "id": "dcAhmn932Lko"
      },
      "outputs": [],
      "source": [
        "# Initialization for librarys and k lists\n",
        "import matplotlib.pyplot as plt\n",
        "import numpy as np\n",
        "k_list = [i for i in range(1, 19)]"
      ]
    },
    {
      "cell_type": "code",
      "execution_count": null,
      "id": "hwzo-B3z2OFW",
      "metadata": {
        "colab": {
          "base_uri": "https://localhost:8080/",
          "height": 265
        },
        "id": "hwzo-B3z2OFW",
        "outputId": "34b4ef1a-d822-4047-a703-45b8e6c9431e"
      },
      "outputs": [
        {
          "data": {
            "image/png": "[encoded data removed]",
            "text/plain": [
              "<Figure size 432x288 with 1 Axes>"
            ]
          },
          "metadata": {
            "needs_background": "light"
          },
          "output_type": "display_data"
        }
      ],
      "source": [
        "# Data-point initialization\n",
        "x = np.random.uniform(0, 1, 50)\n",
        "epsilon = np.random.normal(0, 0.07, 50)\n",
        "g = (np.sin(2 * np.pi * x))**2 + epsilon\n",
        "\n",
        "# Print data points and functions\n",
        "fig, ax = plt.subplots()\n",
        "ax.scatter(x, g)\n",
        "# x.sort()\n",
        "function_x = np.arange(0, 1, 0.0001)\n",
        "ax.plot(function_x, (np.sin(2 * np.pi * function_x))**2)\n",
        "plt.grid()\n",
        "plt.show()"
      ]
    },
    {
      "cell_type": "code",
      "execution_count": null,
      "id": "aCPAqJh3bstn",
      "metadata": {
        "id": "aCPAqJh3bstn"
      },
      "outputs": [],
      "source": [
        "# Define functions for all the rest of exercise 3\n",
        "from numpy.linalg import inv\n",
        "\n",
        "def gen_data(x, y, k):\n",
        "    '''\n",
        "    For a given input and degree k, return its feature map with \n",
        "        k-sin-function basis, and y data\n",
        "\n",
        "    Input: -x: array, input training data\n",
        "\n",
        "           -y: array, input training labels\n",
        "\n",
        "           -k: int, degree of the basis\n",
        "\n",
        "    Output: - array but change each element in the original x to an\n",
        "              array with k elements \n",
        "\n",
        "            - y data\n",
        "    '''\n",
        "    feature_mapped_x = [[] for i in range(len(x))] # x with dimention (m,1) to dimention (m,n)\n",
        "    for i in range(len(x)):\n",
        "        feature_mapped_x[i] = [np.sin(np.pi * x[i] * m) for m in range(1, k)]\n",
        "        feature_mapped_x[i].append(1) #bias term in X\n",
        "\n",
        "    return np.array(feature_mapped_x), y\n",
        "\n",
        "def compute_weight(X, y):   \n",
        "    '''\n",
        "    Compute w = (X_T·X)^(-1)X_T·y\n",
        "\n",
        "    Input: -X: array, feature map of x\n",
        "\n",
        "           -y: array, y data\n",
        "\n",
        "    Output: array with dimention of features\n",
        "    '''\n",
        "    return np.dot(np.matmul(inv(np.matmul(np.transpose(X), X)), np.transpose(X)), y)\n",
        "\n",
        "def predict_y(w, X):\n",
        "    '''\n",
        "    Get predicted y data with y=w^T·X\n",
        "    \n",
        "    Input: -X: array, training input\n",
        "\n",
        "           -w: array, trained weight\n",
        "\n",
        "    Output: -y_hat: array, predicted y with training data\n",
        "    '''\n",
        "    return np.matmul(X, w)\n",
        "\n",
        "def cal_mse(y, y_pred):\n",
        "    '''\n",
        "    Compute mse with given y data and predicted y data\n",
        "\n",
        "    Input: -y: array, y data\n",
        "\n",
        "           -y_pred: array, predicted y data\n",
        "\n",
        "    Output: int, the value of mse\n",
        "    '''\n",
        "    mse = 0\n",
        "    for i in range(len(y)):\n",
        "        mse += (y[i] - y_pred[i]) ** 2\n",
        "    return mse / len(y)\n",
        "\n",
        "def forward_train(x, y, k):\n",
        "    '''\n",
        "    Get trained weight and calculate trained mse\n",
        "\n",
        "    Input: -y: array, y data\n",
        "\n",
        "           -x: array, input training data\n",
        "\n",
        "           -k: int, sin-function parameter\n",
        "\n",
        "    Output: -w: trained weight with dimention n\n",
        "\n",
        "            -mse: int, the value of training mse\n",
        "    '''\n",
        "    X, y = gen_data(x, y, k)\n",
        "    w = compute_weight(X, y)\n",
        "    y_pred = predict_y(w, X)\n",
        "    mse = cal_mse(y_pred, y)\n",
        "    return w, mse\n",
        "\n",
        "def forward_test(x, y, w, k):\n",
        "    '''\n",
        "    Get test mse with test data and test labels\n",
        "\n",
        "    Input: -x: array, testing input\n",
        "\n",
        "           -k: int, sin-function parameter\n",
        "\n",
        "           -w: array, trained weight\n",
        "\n",
        "    Output: int, value of test mse\n",
        "    '''\n",
        "    X, y = gen_data(x, y, k)\n",
        "    y_pred = predict_y(w, X)\n",
        "    mse = cal_mse(y_pred, y)\n",
        "    return mse\n",
        "\n",
        "def plotcurve(x, y, x_pred, y_pred, mse, k):\n",
        "    '''\n",
        "    Plot the trained curve with weight\n",
        "\n",
        "    Input: -x: array, training input\n",
        "\n",
        "           -y: array, training label\n",
        "\n",
        "           -x_pred: array, generated x points waiting to be predicted\n",
        "\n",
        "           -y_pred: array, predicted test y\n",
        "\n",
        "           -k: int, sin-function parameter\n",
        "    '''\n",
        "    fig, ax = plt.subplots()\n",
        "    ax.scatter(x, y, label='data', c  = 'r')\n",
        "    ax.plot(x_pred, y_pred,  label='predicted function', c = \"b\")\n",
        "    plt.title('k = {0}, MSE = {1:.4f}'.format(k, mse))\n",
        "    plt.legend()\n",
        "    plt.grid()\n",
        "    plt.savefig(\"1-2-b\")\n",
        "    plt.show()\n",
        "\n"
      ]
    },
    {
      "cell_type": "markdown",
      "id": "NkQOAvw6n5CG",
      "metadata": {
        "id": "NkQOAvw6n5CG"
      },
      "source": [
        "#### 3-(b)"
      ]
    },
    {
      "cell_type": "code",
      "execution_count": null,
      "id": "2MbmF6X3jllg",
      "metadata": {
        "colab": {
          "base_uri": "https://localhost:8080/",
          "height": 279
        },
        "id": "2MbmF6X3jllg",
        "outputId": "ac93c307-01e6-45ee-999c-4bb582ec0bc7"
      },
      "outputs": [
        {
          "data": {
            "image/png": "[encoded data removed]",
            "text/plain": [
              "<Figure size 432x288 with 1 Axes>"
            ]
          },
          "metadata": {
            "needs_background": "light"
          },
          "output_type": "display_data"
        }
      ],
      "source": [
        "mse_list = []\n",
        "w_list = []\n",
        "for k in k_list:\n",
        "    # For different k, get different feature maps\n",
        "    X, y = gen_data(x, g, k)\n",
        "    w = compute_weight(X, y)\n",
        "    w_list.append(w)\n",
        "    y_pred = predict_y(w, X)\n",
        "    mse = cal_mse(y, y_pred)\n",
        "    mse_list.append(mse)\n",
        "    x_pred = np.arange(0,1,0.0001)\n",
        "\n",
        "# Plot trained mse\n",
        "plt.plot(k_list, np.log(mse_list), label='train')\n",
        "plt.legend()\n",
        "plt.xlabel(\"Polynomial dimensions\")\n",
        "plt.ylabel(\"ln(Training Mean Squared Error)\")\n",
        "plt.grid()\n",
        "plt.savefig(\"1-3-b\", dpi=500)\n",
        "plt.show()\n"
      ]
    },
    {
      "cell_type": "markdown",
      "id": "n_6bKerTn9d-",
      "metadata": {
        "id": "n_6bKerTn9d-"
      },
      "source": [
        "#### 3-(c)"
      ]
    },
    {
      "cell_type": "code",
      "execution_count": null,
      "id": "aXOY3kE1n2cO",
      "metadata": {
        "colab": {
          "base_uri": "https://localhost:8080/",
          "height": 279
        },
        "id": "aXOY3kE1n2cO",
        "outputId": "3a6014bf-821e-461d-a414-5f213250b627"
      },
      "outputs": [
        {
          "data": {
            "image/png": "[encoded data removed]",
            "text/plain": [
              "<Figure size 432x288 with 1 Axes>"
            ]
          },
          "metadata": {
            "needs_background": "light"
          },
          "output_type": "display_data"
        }
      ],
      "source": [
        "# Generate 1000 testing points\n",
        "x_test = np.random.uniform(0, 1, 1000)\n",
        "epsilon_test = np.random.normal(0, 0.07, 1000)\n",
        "g_test = (np.sin(2 * np.pi * x_test))**2 + epsilon_test\n",
        "\n",
        "# Use trained w to get test mse\n",
        "mse_test_list = []\n",
        "for k in k_list:\n",
        "    X_test, y_test = gen_data(x_test, g_test, k)\n",
        "    y_test_pred = predict_y(w_list[k-1], X_test)\n",
        "    mse_test = cal_mse(y_test, y_test_pred)\n",
        "    mse_test_list.append(mse_test)\n",
        "\n",
        "# Plot the test mse curve\n",
        "plt.plot(k_list, np.log(mse_test_list), label='test')\n",
        "plt.legend()\n",
        "plt.xlabel(\"Polynomial dimensions\")\n",
        "plt.ylabel(\"ln(Testing Mean Squared Error)\")\n",
        "plt.grid()\n",
        "plt.savefig(\"1-3-c\", dpi=500)\n",
        "plt.show()"
      ]
    },
    {
      "cell_type": "markdown",
      "id": "1MFzXY3xrH4R",
      "metadata": {
        "id": "1MFzXY3xrH4R"
      },
      "source": [
        "#### 3-(d)"
      ]
    },
    {
      "cell_type": "code",
      "execution_count": null,
      "id": "elGXkNB9rIay",
      "metadata": {
        "colab": {
          "base_uri": "https://localhost:8080/",
          "height": 279
        },
        "id": "elGXkNB9rIay",
        "outputId": "70d95fea-ae20-4f07-f3f1-1008486dec7c"
      },
      "outputs": [
        {
          "data": {
            "image/png": "[encoded data removed]",
            "text/plain": [
              "<Figure size 432x288 with 1 Axes>"
            ]
          },
          "metadata": {
            "needs_background": "light"
          },
          "output_type": "display_data"
        }
      ],
      "source": [
        "mse_train_list = []\n",
        "mse_test_list = []\n",
        "for k in k_list:\n",
        "    mse_train = 0\n",
        "    mse_test = 0\n",
        "    epoch = 0\n",
        "    while epoch < 100:\n",
        "        # Generate data for each epoch\n",
        "        x = np.random.uniform(0, 1, 50)\n",
        "        epsilon = np.random.normal(0, 0.07, 50)\n",
        "        g = (np.sin(2 * np.pi * x))**2 + epsilon\n",
        "        x_test = np.random.uniform(0, 1, 1000)\n",
        "        epsilon_test = np.random.normal(0, 0.07, 1000)\n",
        "        g_test = (np.sin(2 * np.pi * x_test))**2 + epsilon_test\n",
        "        ### train and get trained mse\n",
        "        w, mse_t = forward_train(x, g, k)\n",
        "        mse_train += mse_t\n",
        "        ### test to get test mse\n",
        "        mse_test += forward_test(x_test, g_test, w, k)\n",
        "        epoch += 1\n",
        "    # Get the average mse values\n",
        "    mse_train_list.append(mse_train/100)\n",
        "    mse_test_list.append(mse_test/100)\n",
        "\n",
        "# Plot curves with ln(avg)\n",
        "plt.plot(k_list, np.log(mse_train_list), label='train')\n",
        "plt.plot(k_list, np.log(mse_test_list), label='test')\n",
        "plt.legend()\n",
        "plt.xlabel(\"Polynomial dimensions\")\n",
        "plt.ylabel(\"ln(Mean Squared Error)\")\n",
        "plt.grid()\n",
        "plt.savefig(\"1-3-d\", dpi=500)\n",
        "plt.show()"
      ]
    },
    {
      "cell_type": "markdown",
      "id": "inGV9wN1VvS9",
      "metadata": {
        "id": "inGV9wN1VvS9"
      },
      "source": [
        "### Excercise 4"
      ]
    },
    {
      "cell_type": "code",
      "execution_count": 18,
      "id": "2R1MMoTbV6vj",
      "metadata": {
        "colab": {
          "base_uri": "https://localhost:8080/"
        },
        "id": "2R1MMoTbV6vj",
        "outputId": "c300b1e3-97f0-43c2-99ec-73a43e14655d"
      },
      "outputs": [
        {
          "name": "stdout",
          "output_type": "stream",
          "text": [
            "--2021-11-15 11:40:49--  http://www0.cs.ucl.ac.uk/staff/M.Herbster/boston-filter/Boston-filtered.csv\n",
            "Resolving www0.cs.ucl.ac.uk (www0.cs.ucl.ac.uk)... 128.16.6.8\n",
            "Connecting to www0.cs.ucl.ac.uk (www0.cs.ucl.ac.uk)|128.16.6.8|:80... connected.\n",
            "HTTP request sent, awaiting response... 200 Document follows\n",
            "Length: 31862 (31K) [text/plain]\n",
            "Saving to: ‘Boston-filtered.csv’\n",
            "\n",
            "Boston-filtered.csv 100%[===================>]  31.12K  21.8KB/s    in 1.4s    \n",
            "\n",
            "2021-11-15 11:40:52 (21.8 KB/s) - ‘Boston-filtered.csv’ saved [31862/31862]\n",
            "\n"
          ]
        }
      ],
      "source": [
        "# Library initialization and Get the dataset\n",
        "from numpy.linalg import inv\n",
        "import pandas as pd\n",
        "import numpy as np\n",
        "\n",
        "!wget http://www0.cs.ucl.ac.uk/staff/M.Herbster/boston-filter/Boston-filtered.csv"
      ]
    },
    {
      "cell_type": "code",
      "execution_count": 4,
      "id": "trwgbmtTAskj",
      "metadata": {
        "id": "trwgbmtTAskj"
      },
      "outputs": [],
      "source": [
        "# Define functions for all the rest of exercise 4\n",
        "def gen_data(x, y, num_feat):\n",
        "    '''\n",
        "    For a given input and the number of features, return pre-processed data\n",
        "\n",
        "    Input: -x: array, input training data\n",
        "\n",
        "           -y: array, input training labels\n",
        "\n",
        "           -num_feat: int, number of features in [0,1,12], 0 represents naive regression\n",
        "\n",
        "    Output: - array of training data \n",
        "\n",
        "            - y data\n",
        "    '''\n",
        "    if num_feat == 0:\n",
        "        size = len(y)\n",
        "        X = np.ones((size, 1))\n",
        "        return np.array(X), y\n",
        "    if num_feat == 1:\n",
        "        X_list = []\n",
        "        for i in range(12):\n",
        "            X = [[] for _ in range(y.size)]\n",
        "            for idx in range(y.size):\n",
        "                X[idx].append(x[idx][i])\n",
        "                X[idx].append(1) #bias\n",
        "            X_list.append(np.array(X))\n",
        "        return X_list, y\n",
        "    if num_feat == 12:\n",
        "        X = []\n",
        "        for line in x:\n",
        "            a = np.append(line, 1)\n",
        "            X.append(a)\n",
        "        return np.array(X), y\n",
        "\n",
        "def compute_weight(X, y):\n",
        "    '''\n",
        "    Compute w = (X_T·X)^(-1)X_T·y\n",
        "\n",
        "    Input: -X: array, feature map of x\n",
        "\n",
        "           -y: array, y data\n",
        "\n",
        "    Output: array with dimention of featureså\n",
        "    '''\n",
        "    return np.dot(np.matmul(inv(np.matmul(np.transpose(X), X)), np.transpose(X)), y)\n",
        "\n",
        "def predict_y(w, X):\n",
        "    '''\n",
        "    Get predicted y data with y=w^T·X\n",
        "    \n",
        "    Input: -X: array, training input\n",
        "\n",
        "           -w: array, trained weight\n",
        "\n",
        "    Output: -y_hat: array, predicted y with training data\n",
        "    '''\n",
        "    return np.matmul(X, w)\n",
        "\n",
        "def cal_mse(y, y_pred):\n",
        "    '''\n",
        "    Compute mse with given y data and predicted y data\n",
        "\n",
        "    Input: -y: array, y data\n",
        "\n",
        "           -y_pred: array, predicted y data\n",
        "\n",
        "    Output: int, the value of mse\n",
        "    '''\n",
        "    mse = 0\n",
        "    for i in range(len(y)):\n",
        "        mse += (y[i] - y_pred[i]) ** 2\n",
        "    return mse / len(y)\n",
        "\n",
        "def forward_train(x, y, num_feat):\n",
        "    '''\n",
        "    Get trained weight and calculate trained mse\n",
        "\n",
        "    Input: -y: array, y data\n",
        "\n",
        "           -x: array, input training data\n",
        "\n",
        "           -num_feat: int, number of features\n",
        "\n",
        "    Output: -w_list: array, trained weights with dimention n and features\n",
        "\n",
        "            -mse_list: array, the array of training mse's\n",
        "    '''\n",
        "    if num_feat == 1:\n",
        "        mse_list = []\n",
        "        w_list = []\n",
        "        X_list, y = gen_data(x, y, num_feat)\n",
        "        for idx in range(len(X_list)):\n",
        "            w = compute_weight(X_list[idx], y)\n",
        "            w_list.append(w)\n",
        "            y_pred = predict_y(w, X_list[idx])\n",
        "            mse = cal_mse(y_pred, y)\n",
        "            mse_list.append(mse)\n",
        "        return w_list, np.array(mse_list)\n",
        "\n",
        "    else:\n",
        "        X, y = gen_data(x, y, num_feat)\n",
        "        w = compute_weight(X, y)\n",
        "        y_pred = predict_y(w, X)\n",
        "        mse = cal_mse(y_pred, y)\n",
        "        return w, mse\n",
        "\n",
        "def forward_test(x, y, w, num_feat):\n",
        "    '''\n",
        "    Get test mse with test data and test labels\n",
        "\n",
        "    Input: -x: array, testing input\n",
        "\n",
        "           -y: array, testing labels\n",
        "\n",
        "           -w: array, trained weight\n",
        "\n",
        "           -num_feat: int, number of attributes\n",
        "\n",
        "    Output: int/array, value of test mse\n",
        "    '''\n",
        "    if num_feat == 1:\n",
        "        mse_list = []\n",
        "        X_list, y = gen_data(x, y, num_feat)\n",
        "        for idx in range(len(X_list)):\n",
        "            y_pred = predict_y(w[idx], X_list[idx])\n",
        "            mse = cal_mse(y_pred, y)\n",
        "            mse_list.append(mse)\n",
        "        return np.array(mse_list)\n",
        "    else:\n",
        "        X, y = gen_data(x, y, num_feat)\n",
        "        y_pred = predict_y(w, X)\n",
        "        mse = cal_mse(y_pred, y)\n",
        "        return mse\n",
        "\n",
        "def plotcurve(x, y, y_predict, mse):\n",
        "    '''\n",
        "    Plot the trained curve with weight\n",
        "\n",
        "    Input: -x: array, training input\n",
        "\n",
        "           -y: array, training label\n",
        "\n",
        "           -x_pred: array, generated x points waiting to be predicted\n",
        "\n",
        "           -y_pred: array, predicted test y\n",
        "\n",
        "           -k: int, sin-function parameter\n",
        "    '''\n",
        "    fig, ax = plt.subplots()\n",
        "    ax.scatter(x, y, label='data')\n",
        "    ax.scatter(x, y_pred, label='predict')\n",
        "    plt.title('k = {0}, MSE = {1:.4f}'.format(k, mse))\n",
        "    plt.legend()\n",
        "    plt.grid()\n",
        "    plt.show()\n",
        "\n"
      ]
    },
    {
      "cell_type": "code",
      "execution_count": null,
      "id": "tchsJkZKWGa5",
      "metadata": {
        "id": "tchsJkZKWGa5"
      },
      "outputs": [],
      "source": [
        "# Pre-process data and get training data and labels\n",
        "df = pd.read_csv(\"Boston-filtered.csv\")\n",
        "data = df.values\n",
        "\n",
        "mse_naive_train_avg = 0\n",
        "mse_naive_test_avg = 0\n",
        "mse_1_train_avg_list = np.zeros(12)\n",
        "mse_1_test_avg_list = np.zeros(12)\n",
        "mse_12_train_avg = 0\n",
        "mse_12_test_avg = 0\n",
        "\n",
        "# Run 20 epochs\n",
        "for epoch in range(20):\n",
        "    # Shuffle data and get train/test data with 1/3 split\n",
        "    np.random.shuffle(data)\n",
        "    data_x = data[:, :-1]\n",
        "    data_y = data[:, -1]\n",
        "    test_size = len(data) // 3\n",
        "    x_test = data_x[:test_size]\n",
        "    y_test = data_y[:test_size]\n",
        "    x_train = data_x[test_size:]\n",
        "    y_train = data_y[test:]\n",
        "    ### naive regression// num_feat = 0\n",
        "    w_naive, mse_naive_train = forward_train(x_train, y_train, 0)\n",
        "    mse_naive_train_avg += mse_naive_train\n",
        "    mse_naive_test = forward_test(x_test, y_test, w_naive, 0)\n",
        "    mse_naive_test_avg += mse_naive_test\n",
        "    ### 1 attribute regression\n",
        "    w_1_list, mse_1_train_list = forward_train(x_train, y_train, 1)\n",
        "    mse_1_train_avg_list += mse_1_train_list\n",
        "    mse_1_test_list = forward_test(x_test, y_test, w_1_list, 1)\n",
        "    mse_1_test_avg_list += mse_1_test_list\n",
        "    ### 12 attributes\n",
        "    w_12, mse_12_train = forward_train(x_train, y_train, 12)\n",
        "    mse_12_train_avg += mse_12_train\n",
        "    mse_12_test = forward_test(x_test, y_test, w_12, 12)\n",
        "    mse_12_test_avg += mse_12_test\n",
        "\n",
        "mse_naive_train_avg /= 20\n",
        "mse_naive_test_avg /= 20\n",
        "mse_1_train_avg_list /= 20\n",
        "mse_1_test_avg_list /= 20\n",
        "mse_12_train_avg /= 20\n",
        "mse_12_test_avg /= 20"
      ]
    },
    {
      "cell_type": "code",
      "execution_count": null,
      "id": "1kuaf_-AZ14k",
      "metadata": {
        "colab": {
          "base_uri": "https://localhost:8080/"
        },
        "id": "1kuaf_-AZ14k",
        "outputId": "66fdc0ea-c201-4972-819a-0a64204760ee"
      },
      "outputs": [
        {
          "data": {
            "text/plain": [
              "84.79271236869214"
            ]
          },
          "execution_count": 35,
          "metadata": {},
          "output_type": "execute_result"
        }
      ],
      "source": [
        "# Naive regression training mse\n",
        "mse_naive_train_avg"
      ]
    },
    {
      "cell_type": "code",
      "execution_count": null,
      "id": "dF_hEzg1Z5Ex",
      "metadata": {
        "colab": {
          "base_uri": "https://localhost:8080/"
        },
        "id": "dF_hEzg1Z5Ex",
        "outputId": "9704a779-88f5-4e7a-f8d1-2c77709c3149"
      },
      "outputs": [
        {
          "data": {
            "text/plain": [
              "84.0813866778901"
            ]
          },
          "execution_count": 36,
          "metadata": {},
          "output_type": "execute_result"
        }
      ],
      "source": [
        "# Naive regression testing mse\n",
        "mse_naive_test_avg"
      ]
    },
    {
      "cell_type": "code",
      "execution_count": null,
      "id": "Cnimj3pZaHFx",
      "metadata": {
        "colab": {
          "base_uri": "https://localhost:8080/"
        },
        "id": "Cnimj3pZaHFx",
        "outputId": "a4df0a86-d3d7-4486-897f-c2a00ef7328f"
      },
      "outputs": [
        {
          "data": {
            "text/plain": [
              "array([72.15332944, 74.15417807, 66.02972806, 81.27016938, 69.66064257,\n",
              "       43.71619725, 73.55719562, 79.96827493, 72.89431378, 66.89952879,\n",
              "       63.86972149, 38.78760727])"
            ]
          },
          "execution_count": 37,
          "metadata": {},
          "output_type": "execute_result"
        }
      ],
      "source": [
        "# training mse with single attribute\n",
        "mse_1_train_avg_list "
      ]
    },
    {
      "cell_type": "code",
      "execution_count": null,
      "id": "dn9Ll1FnaIF5",
      "metadata": {
        "colab": {
          "base_uri": "https://localhost:8080/"
        },
        "id": "dn9Ll1FnaIF5",
        "outputId": "4f85aab4-72b3-4a75-d3d6-4f57dd998fc8"
      },
      "outputs": [
        {
          "data": {
            "text/plain": [
              "array([71.43641268, 72.68531845, 62.62664573, 83.95624221, 68.11762445,\n",
              "       43.86267735, 70.86453377, 78.24183722, 71.10500818, 64.3274467 ,\n",
              "       60.8683555 , 38.26294838])"
            ]
          },
          "execution_count": 38,
          "metadata": {},
          "output_type": "execute_result"
        }
      ],
      "source": [
        "# testing mse with single attribute\n",
        "mse_1_test_avg_list"
      ]
    },
    {
      "cell_type": "code",
      "execution_count": null,
      "id": "yRpo40hLaJKD",
      "metadata": {
        "colab": {
          "base_uri": "https://localhost:8080/"
        },
        "id": "yRpo40hLaJKD",
        "outputId": "f1a377c6-5a1c-4b6d-a6dc-1a078b9e81dd"
      },
      "outputs": [
        {
          "data": {
            "text/plain": [
              "22.17506649161621"
            ]
          },
          "execution_count": 39,
          "metadata": {},
          "output_type": "execute_result"
        }
      ],
      "source": [
        "# training mse with 12 attributes together\n",
        "mse_12_train_avg "
      ]
    },
    {
      "cell_type": "code",
      "execution_count": null,
      "id": "lOBwmfnPaVzP",
      "metadata": {
        "colab": {
          "base_uri": "https://localhost:8080/"
        },
        "id": "lOBwmfnPaVzP",
        "outputId": "c9316eb1-edc0-45fe-924c-35b64ce3b8f1"
      },
      "outputs": [
        {
          "data": {
            "text/plain": [
              "24.39840263674791"
            ]
          },
          "execution_count": 40,
          "metadata": {},
          "output_type": "execute_result"
        }
      ],
      "source": [
        "# testing mse with 12 attributes together\n",
        "mse_12_test_avg"
      ]
    },
    {
      "cell_type": "markdown",
      "id": "zhtlp6gSFn2z",
      "metadata": {
        "id": "zhtlp6gSFn2z"
      },
      "source": [
        "### Excercise 5"
      ]
    },
    {
      "cell_type": "code",
      "execution_count": 1,
      "id": "kWvcJ_n-1IEs",
      "metadata": {
        "colab": {
          "base_uri": "https://localhost:8080/"
        },
        "id": "kWvcJ_n-1IEs",
        "outputId": "f78d77bb-1e9d-4c8c-c8ed-d4db67db7783"
      },
      "outputs": [
        {
          "name": "stdout",
          "output_type": "stream",
          "text": [
            "--2021-11-15 15:28:30--  http://www0.cs.ucl.ac.uk/staff/M.Herbster/boston-filter/Boston-filtered.csv\n",
            "Resolving www0.cs.ucl.ac.uk (www0.cs.ucl.ac.uk)... 128.16.6.8\n",
            "Connecting to www0.cs.ucl.ac.uk (www0.cs.ucl.ac.uk)|128.16.6.8|:80... connected.\n",
            "HTTP request sent, awaiting response... 200 Document follows\n",
            "Length: 31862 (31K) [text/plain]\n",
            "Saving to: ‘Boston-filtered.csv’\n",
            "\n",
            "Boston-filtered.csv 100%[===================>]  31.12K  10.5KB/s    in 3.0s    \n",
            "\n",
            "2021-11-15 15:28:34 (10.5 KB/s) - ‘Boston-filtered.csv’ saved [31862/31862]\n",
            "\n"
          ]
        }
      ],
      "source": [
        "# Library and parameter initialization\n",
        "import random\n",
        "import math\n",
        "import torch\n",
        "import numpy as np\n",
        "import matplotlib.pyplot as plt\n",
        "from mpl_toolkits.mplot3d import Axes3D\n",
        "from numpy.linalg import inv\n",
        "from numpy.linalg import norm\n",
        "import pandas as pd\n",
        "\n",
        "\n",
        "lam_vector = [2**(-40+i) for i in range(15)]\n",
        "sigma_vector = [2**7 * 2**(0.5*i) for i in range(13)]\n",
        "\n",
        "# Get the dataset\n",
        "!wget http://www0.cs.ucl.ac.uk/staff/M.Herbster/boston-filter/Boston-filtered.csv\n",
        "\n",
        "df = pd.read_csv(\"Boston-filtered.csv\")\n",
        "data = df.values"
      ]
    },
    {
      "cell_type": "code",
      "execution_count": null,
      "id": "E-0eRzMVK6Xc",
      "metadata": {
        "id": "E-0eRzMVK6Xc"
      },
      "outputs": [],
      "source": [
        "### function initialization for ex5\n",
        "def kernel(x, t, sigma):\n",
        "    '''\n",
        "    return the gaussian kernel of two points, exp(-(||x-t||^2)/(2*sigma^2))\n",
        "\n",
        "    Input: -x: array, any other points of input X\n",
        "\n",
        "           -t: array, fixed test point\n",
        "\n",
        "           -sigma: float, kernel parameter\n",
        "\n",
        "    Output: float, kernel value\n",
        "    '''\n",
        "    return np.exp(-norm(x - t)**2 / (2*(sigma**2)))\n",
        "\n",
        "\n",
        "def K_matrix(x, sigma):\n",
        "    '''\n",
        "    Get the kernel matrix for each point in X, size m*m\n",
        "    Using bradcase to speed up\n",
        "\n",
        "    Input: -x: array, input training data\n",
        "\n",
        "           -sigma: float, kernel parameter\n",
        "\n",
        "    Output: array (m*m), with each element representing kernel value\n",
        "    '''\n",
        "    X_wide = np.reshape(np.tile(x, len(x)), (len(x),len(x),len(x[0]))) #broadcast X widely\n",
        "    X_deep = X_wide.transpose(1,0,2)\n",
        "    return np.exp(-np.sum((X_wide - X_deep)**2, axis=2)/(2*sigma**2))\n",
        "\n",
        "\n",
        "def alpha(x, y, sigma, lam):\n",
        "    '''\n",
        "    Get the alpha vector with regulization parameter and kernels\n",
        "\n",
        "    Input: -x: array, input training data\n",
        "\n",
        "           -y: array, input training labels\n",
        "\n",
        "           -sigma: float, kernel parameter\n",
        "\n",
        "           -lam: ragulator parameter\n",
        "\n",
        "    Output: array (m*1), alpha vector for\n",
        "    '''\n",
        "    K = K_matrix(x, sigma)\n",
        "    return np.matmul(np.linalg.inv(K + len(x) * lam * np.identity(len(x))), y)\n",
        "    \n",
        "    \n",
        "def pair(sigma_vector, lam_vector):\n",
        "    '''\n",
        "    Pair each sigma and lambda value from parameter list\n",
        "\n",
        "    Input: -sigma_vector: array, sigma list\n",
        "\n",
        "           -lam_vector: array, lambda list\n",
        "\n",
        "    Output: list, each element is a pair of sigma and lambda values\n",
        "    '''\n",
        "    lst = [] \n",
        "    for sigma in sigma_vector:\n",
        "        for lam in lam_vector:\n",
        "            lst.append([sigma, lam])\n",
        "    return lst\n",
        "\n",
        "\n",
        "def predict(x_train, x_test, alpha_vector, sigma, lam, train=True):\n",
        "    '''\n",
        "    Get predicted y with different pair of sigma and lambda values\n",
        "\n",
        "    #####Using broadcast to speed up######\n",
        "\n",
        "    Input: -x_train: array, input training data\n",
        "\n",
        "           -x_test: array, input testing data\n",
        "\n",
        "           -alpha_vector: array, calculated alpha vector\n",
        "\n",
        "           -sigma: float, kernel parameter\n",
        "\n",
        "           -lam: float, ragulator parameter\n",
        "\n",
        "           -train: bool, True for training prediction, False for testing prediction\n",
        "\n",
        "    Output: array with predicted y array\n",
        "    '''\n",
        "    x = x_train if train else x_test\n",
        "    x_test_tile = np.reshape(np.tile(x,len(x_train)), (len(x),len(x_train),len(x[0])))#broadcast\n",
        "    x_train_tile = np.reshape(np.tile(x_train,len(x)), (len(x_train),len(x),len(x_train[0])))#broadcast\n",
        "    x_train_tile = x_train_tile.transpose(1,0,2)\n",
        "    alpha_vector_tile = np.reshape(np.tile(alpha_vector,len(x)), (len(x),len(alpha_vector)))#broadcast\n",
        "    return np.sum(alpha_vector_tile * np.exp(-np.sum((x_test_tile - x_train_tile)**2, axis=2)/(2*sigma**2)), axis = 1)\n",
        "    \n",
        "\n",
        "def cal_mse(y, y_pred):\n",
        "    '''\n",
        "    Compute mse with given y data and predicted y data\n",
        "\n",
        "    Input: -y: array, y data\n",
        "\n",
        "           -y_pred: array, predicted y data\n",
        "\n",
        "    Output: int, the value of mse\n",
        "    '''\n",
        "    mse = 0\n",
        "    for i in range(len(y)):\n",
        "        mse += (y[i] - y_pred[i]) ** 2\n",
        "        # mse += abs(y[i] - y_pred[i])\n",
        "    return mse / len(y)\n",
        "\n",
        "def cross_val(x, y, sigma_vector, lam_vector):\n",
        "    '''\n",
        "    Five-fold cross validtion method, return the mse_list with all results\n",
        "\n",
        "    Input: -x: array, input training data\n",
        "\n",
        "           -y: array, input training labels\n",
        "\n",
        "           -sigma_vector: list, list of sigma values\n",
        "\n",
        "           -lam_vector: list, list of lambda values\n",
        "\n",
        "    Output: list of all mse scores\n",
        "    '''\n",
        "    ### five fold initializtion\n",
        "    size = len(y)\n",
        "    fold_size = size//5\n",
        "    x_fold_list = []\n",
        "    y_fold_list = [] \n",
        "    ### Divide the training list into 5 roughly equal subsets\n",
        "    for i in range(5):\n",
        "        if i < 4:\n",
        "            x_fold_list.append(x[fold_size*i:fold_size*(i+1)])\n",
        "            y_fold_list.append(y[fold_size*i:fold_size*(i+1)])\n",
        "        else:\n",
        "            x_fold_list.append(x[fold_size*i:])\n",
        "            y_fold_list.append(y[fold_size*i:])\n",
        "\n",
        "    ### In each iteration, one of the 5 subsets will be the validation set\n",
        "    sl_list = pair(sigma_vector, lam_vector)\n",
        "    cv_error_list = np.zeros(len(sl_list)) #13*15 pairs of parameter\n",
        "    for i in range(5):    \n",
        "        X_train = []\n",
        "        y_train = []\n",
        "        X_test = []\n",
        "        y_test = []\n",
        "        idx_list = [0,1,2,3,4]\n",
        "        idx_list.remove(i)\n",
        "        X_test.extend(x_fold_list[i])\n",
        "        y_test.extend(y_fold_list[i])\n",
        "        for idx in idx_list:\n",
        "            X_train.extend(x_fold_list[idx])\n",
        "            y_train.extend(y_fold_list[idx])\n",
        "        X_train = np.array(X_train)\n",
        "        y_train = np.array(y_train)\n",
        "        X_test = np.array(X_test)\n",
        "        y_test = np.array(y_test)\n",
        "\n",
        "        # Train data and validate the performance for 13*15*5 times\n",
        "        mse_list = []\n",
        "        for vector_pair in sl_list:\n",
        "            sigma, lam = vector_pair[0], vector_pair[1]\n",
        "            alpha_vector = alpha(X_train, y_train, sigma, lam)\n",
        "            y_pred = predict(X_train, X_test, alpha_vector, sigma, lam, train=False)\n",
        "            mse = cal_mse(y_test, y_pred)\n",
        "            mse_list.append(mse) #13*15\n",
        "        cv_error_list += np.array(mse_list)\n",
        "    cv_error_list /= 5\n",
        "    return cv_error_list\n",
        "\n"
      ]
    },
    {
      "cell_type": "markdown",
      "id": "MR1rzUohy4CC",
      "metadata": {
        "id": "MR1rzUohy4CC"
      },
      "source": [
        "#### 5.a"
      ]
    },
    {
      "cell_type": "code",
      "execution_count": null,
      "id": "YuUEwYvQrRzB",
      "metadata": {
        "colab": {
          "base_uri": "https://localhost:8080/"
        },
        "id": "YuUEwYvQrRzB",
        "outputId": "868bd193-c467-402c-d109-6f50b00529a5"
      },
      "outputs": [
        {
          "name": "stdout",
          "output_type": "stream",
          "text": [
            "optimal log2(sigma_factor):  9.000000, optimal log2(lambda_factor): -33.000000\n"
          ]
        }
      ],
      "source": [
        "# Split the dataset to train and test, then get the index of minimal error using cross validation\n",
        "np.random.shuffle(data)\n",
        "data_x = data[:, :-1]\n",
        "data_y = data[:, -1]\n",
        "test_size = len(data) // 3\n",
        "X_test = data_x[:test_size]\n",
        "y_test = data_y[:test_size]\n",
        "X_train = data_x[test_size:]\n",
        "y_train = data_y[test_size:]\n",
        "cv_error_list = np.array(cross_val(X_train, y_train, sigma_vector, lam_vector))\n",
        "min_idx = np.argmin(cv_error_list)\n",
        "\n",
        "# The index of row and column are the optimal choice of sigma and lambda respectively\n",
        "if min_idx != 0:\n",
        "    sigma_idx = min_idx // 13 if min_idx % 13 != 0 min_idx // 13 - 1\n",
        "    lam_idx = min_idx % 13 if min_idx % 15 != 0 else min_idx % 15 - 1\n",
        "    print(\"optimal log2(sigma_factor): {0: 3f}, optimal log2(lambda_factor): {1: 3f}\".format(np.log2(sigma_vector[sigma_idx]), np.log2(lam_vector[lam_idx])))\n",
        "else:\n",
        "    print(\"optimal log2(sigma_factor): {0: 3f}, optimal log2(lambda_factor): {1: 3f}\".format(np.log2(sigma_vector[sigma_idx]), np.log2(lam_vector[lam_idx])))\n",
        "\n",
        "o_sigma, o_lam = sigma_vector[sigma_idx], lam_vector[lam_idx]"
      ]
    },
    {
      "cell_type": "markdown",
      "id": "IcnDbpYRy51N",
      "metadata": {
        "id": "IcnDbpYRy51N"
      },
      "source": [
        "####5.b"
      ]
    },
    {
      "cell_type": "code",
      "execution_count": null,
      "id": "34mY2-TWzB01",
      "metadata": {
        "colab": {
          "base_uri": "https://localhost:8080/",
          "height": 319
        },
        "id": "34mY2-TWzB01",
        "outputId": "b91f9dd0-0df9-4631-baf3-8e612f493630"
      },
      "outputs": [
        {
          "data": {
            "image/png": "[encoded data removed]",
            "text/plain": [
              "<Figure size 432x288 with 2 Axes>"
            ]
          },
          "metadata": {
            "needs_background": "light"
          },
          "output_type": "display_data"
        }
      ],
      "source": [
        "# Reshape x and y in order to plot the 3-d figure\n",
        "sigma_vector_tile = np.tile(np.array(np.log2(sigma_vector)), len(lam_vector))\n",
        "x_axis = np.reshape(sigma_vector_tile, (len(lam_vector), len(sigma_vector))).transpose(1,0).flatten()\n",
        "lam_vector_tile = np.tile(np.array(np.log2(lam_vector)), len(sigma_vector))\n",
        "y_axis = np.reshape(lam_vector_tile, (len(sigma_vector), len(lam_vector))).flatten()\n",
        "\n",
        "# Plot the figure\n",
        "fig, ax = plt.subplots(subplot_kw={\"projection\": \"3d\"})\n",
        "ax = Axes3D(fig)\n",
        "ax.scatter(x_axis, y_axis, cv_error_list)\n",
        "ax.set_xlabel('$log_2(\\sigma)$', fontsize=12, rotation=150)\n",
        "ax.set_ylabel('$log_2(\\gamma)$', fontsize=12, rotation=150)\n",
        "ax.set_zlabel('cross validation error', fontsize=9)\n",
        "plt.savefig('1-5-b', dpi=500)\n",
        "plt.show()"
      ]
    },
    {
      "cell_type": "markdown",
      "id": "-NWyb6DI3nk5",
      "metadata": {
        "id": "-NWyb6DI3nk5"
      },
      "source": [
        "####5.c "
      ]
    },
    {
      "cell_type": "code",
      "execution_count": null,
      "id": "PFdFXAtF3qnb",
      "metadata": {
        "id": "PFdFXAtF3qnb"
      },
      "outputs": [],
      "source": [
        "# Using function defined before to calculate training and testing mse\n",
        "sigma, lam = o_sigma, o_lam\n",
        "alpha_vector = alpha(X_train, y_train, sigma, lam)\n",
        "y_train_pred = predict(X_train, X_test, alpha_vector, sigma, lam, train=True)\n",
        "y_test_pred = predict(X_train, X_test, alpha_vector, sigma, lam, train=False)\n",
        "mse_train = cal_mse(y_train, y_train_pred)\n",
        "mse_test = cal_mse(y_test, y_test_pred)\n"
      ]
    },
    {
      "cell_type": "code",
      "execution_count": null,
      "id": "F9s5AFVN4-QR",
      "metadata": {
        "colab": {
          "base_uri": "https://localhost:8080/"
        },
        "id": "F9s5AFVN4-QR",
        "outputId": "27ee73b3-af99-405b-947b-dee797072b51"
      },
      "outputs": [
        {
          "data": {
            "text/plain": [
              "6.086781591635332"
            ]
          },
          "execution_count": 123,
          "metadata": {},
          "output_type": "execute_result"
        }
      ],
      "source": [
        "mse_train"
      ]
    },
    {
      "cell_type": "code",
      "execution_count": null,
      "id": "TO8KJ6c74_Xw",
      "metadata": {
        "colab": {
          "base_uri": "https://localhost:8080/"
        },
        "id": "TO8KJ6c74_Xw",
        "outputId": "ca330b73-0879-4836-8b9a-7edcea54db97"
      },
      "outputs": [
        {
          "data": {
            "text/plain": [
              "17.27310753285306"
            ]
          },
          "execution_count": 124,
          "metadata": {},
          "output_type": "execute_result"
        }
      ],
      "source": [
        "mse_test"
      ]
    },
    {
      "cell_type": "markdown",
      "id": "dvq2F3Gf5PGc",
      "metadata": {
        "id": "dvq2F3Gf5PGc"
      },
      "source": [
        "#### 5.d"
      ]
    },
    {
      "cell_type": "code",
      "execution_count": null,
      "id": "xvqv7fQi7s8C",
      "metadata": {
        "colab": {
          "base_uri": "https://localhost:8080/"
        },
        "id": "xvqv7fQi7s8C",
        "outputId": "74e01354-1851-43a9-941d-3824848a2072"
      },
      "outputs": [
        {
          "name": "stdout",
          "output_type": "stream",
          "text": [
            "optimal log2(sigma_factor):  9.000000, optimal log2(lambda_factor): -26.000000\n",
            "optimal log2(sigma_factor):  10.000000, optimal log2(lambda_factor): -26.000000\n",
            "optimal log2(sigma_factor):  10.000000, optimal log2(lambda_factor): -32.000000\n",
            "optimal log2(sigma_factor):  9.500000, optimal log2(lambda_factor): -30.000000\n",
            "optimal log2(sigma_factor):  9.500000, optimal log2(lambda_factor): -29.000000\n",
            "optimal log2(sigma_factor):  10.000000, optimal log2(lambda_factor): -39.000000\n",
            "optimal log2(sigma_factor):  9.500000, optimal log2(lambda_factor): -30.000000\n",
            "optimal log2(sigma_factor):  9.500000, optimal log2(lambda_factor): -28.000000\n",
            "optimal log2(sigma_factor):  12.000000, optimal log2(lambda_factor): -26.000000\n",
            "optimal log2(sigma_factor):  9.500000, optimal log2(lambda_factor): -29.000000\n",
            "optimal log2(sigma_factor):  9.500000, optimal log2(lambda_factor): -29.000000\n",
            "optimal log2(sigma_factor):  10.000000, optimal log2(lambda_factor): -39.000000\n",
            "optimal log2(sigma_factor):  9.000000, optimal log2(lambda_factor): -27.000000\n",
            "optimal log2(sigma_factor):  10.000000, optimal log2(lambda_factor): -33.000000\n",
            "optimal log2(sigma_factor):  9.500000, optimal log2(lambda_factor): -28.000000\n",
            "optimal log2(sigma_factor):  10.000000, optimal log2(lambda_factor): -31.000000\n",
            "optimal log2(sigma_factor):  9.000000, optimal log2(lambda_factor): -27.000000\n",
            "optimal log2(sigma_factor):  10.500000, optimal log2(lambda_factor): -37.000000\n",
            "optimal log2(sigma_factor):  10.500000, optimal log2(lambda_factor): -32.000000\n",
            "optimal log2(sigma_factor):  10.000000, optimal log2(lambda_factor): -30.000000\n"
          ]
        }
      ],
      "source": [
        "# Re-initialize data for 20 runs\n",
        "df = pd.read_csv(\"Boston-filtered.csv\")\n",
        "data = df.values\n",
        "training_x = data[:, :-1]\n",
        "training_y = data[:, -1]\n",
        "\n",
        "ex4_naive_train = []\n",
        "ex4_naive_test = []\n",
        "ex4_1_train = []\n",
        "ex4_1_test = []\n",
        "ex4_12_train = []\n",
        "ex4_12_test = []\n",
        "\n",
        "ex5_train = []\n",
        "ex5_test = []\n",
        "\n",
        "# Run 20 epochs\n",
        "for epoch in range(20):\n",
        "    np.random.shuffle(data)\n",
        "    data_x = data[:, :-1]\n",
        "    data_y = data[:, -1]\n",
        "    test_size = len(data) // 3\n",
        "    x_test = data_x[:test_size]\n",
        "    y_test = data_y[:test_size]\n",
        "    x_train = data_x[test_size:]\n",
        "    y_train = data_y[test:]\n",
        "    \n",
        "    #### EX4 a,c,d\n",
        "    ### naive regression// num_feat = 0\n",
        "    w_naive, mse_naive_train = forward_train(x_train, y_train, 0)\n",
        "    mse_naive_test = forward_test(x_test, y_test, w_naive, 0)\n",
        "    ex4_naive_train.append(mse_naive_train)\n",
        "    ex4_naive_test.append(mse_naive_test)\n",
        "\n",
        "    ### 1 attribute regression\n",
        "    w_1, mse_1_train = forward_train(x_train, y_train, 1)\n",
        "    mse_1_test = forward_test(x_test, y_test, w_1, 1)\n",
        "    ex4_1_train.append(mse_1_train)\n",
        "    ex4_1_test.append(mse_1_test)\n",
        "    ### 12 attributes\n",
        "    w_12, mse_12_train = forward_train(x_train, y_train, 12)\n",
        "    mse_12_test = forward_test(x_test, y_test, w_12, 12)\n",
        "    ex4_12_train.append(mse_12_train)\n",
        "    ex4_12_test.append(mse_12_test)\n",
        "\n",
        "\n",
        "    #### EX5 a,c\n",
        "    X_train = x_train\n",
        "    X_test = x_test\n",
        "    cv_error_list = np.array(cross_val(X_train, y_train, sigma_vector, lam_vector))\n",
        "    min_idx = np.argmin(cv_error_list)\n",
        "    if min_idx != 0:\n",
        "        sigma_idx = min_idx // 13 if min_idx % 13 != 0 else min_idx // 13 - 1\n",
        "        lam_idx = min_idx % 15 if min_idx % 15 != 0 else min_idx % 15 - 1\n",
        "        print(\"optimal log2(sigma_factor): {0: 6f}, optimal log2(lambda_factor): {1: 9f}\".format(np.log2(sigma_vector[sigma_idx]), np.log2(lam_vector[lam_idx])))\n",
        "    else:\n",
        "        print(\"optimal log2(sigma_factor): {0: 6f}, optimal log2(lambda_factor): {1: 9f}\".format(sigma_vector[sigma_idx], lam_vector[lam_idx]))\n",
        "    o_sigma, o_lam = sigma_vector[sigma_idx], lam_vector[lam_idx]\n",
        "\n",
        "    sigma, lam = o_sigma, o_lam\n",
        "    alpha_vector = alpha(X_train, y_train, sigma, lam)\n",
        "    y_train_pred = predict(X_train, X_test, alpha_vector, sigma, lam, train=True)\n",
        "    y_test_pred = predict(X_train, X_test, alpha_vector, sigma, lam, train=False)\n",
        "    mse_train = cal_mse(y_train, y_train_pred)\n",
        "    mse_test = cal_mse(y_test, y_test_pred)\n",
        "    ex5_train.append(mse_train)\n",
        "    ex5_test.append(mse_test)"
      ]
    },
    {
      "cell_type": "markdown",
      "id": "FogcxfDDEk4D",
      "metadata": {
        "id": "FogcxfDDEk4D"
      },
      "source": [
        "##### Result"
      ]
    },
    {
      "cell_type": "code",
      "execution_count": null,
      "id": "jZrIjSNlRtPG",
      "metadata": {
        "id": "jZrIjSNlRtPG"
      },
      "outputs": [],
      "source": [
        "print(\"train MSE of EX4 naive: {0:.2f} ± {1:.2f}\".format(np.mean(ex4_naive_train), np.sqrt(np.var(ex4_naive_train))))\n",
        "\n",
        "print(\"test MSE of EX4 naive: {0:.2f} ± {1:.2f}\".format(np.mean(ex4_naive_test), np.sqrt(np.var(ex4_naive_test))))\n",
        "\n",
        "print(\"train MSE of EX4 with one attribute:\")\n",
        "print(np.mean(ex4_1_train, axis=0), np.sqrt(np.var(ex4_1_train, axis=0)))\n",
        "\n",
        "print(\"test MSE of EX4 with one attribute:\")\n",
        "print(np.mean(ex4_1_test, axis=0), np.sqrt(np.var(ex4_1_test, axis=0)))\n",
        "\n",
        "print(\"train MSE of EX4 with all attributes: {0:.2f} ± {1:.2f}\".format(np.mean(ex4_12_train), np.sqrt(np.var(ex4_12_train))))\n",
        "\n",
        "print(\"test MSE of EX4 with all attributes: {0:.2f} ± {1:.2f}\".format(np.mean(ex4_12_test), np.sqrt(np.var(ex4_12_test))))\n",
        "\n",
        "print(\"train MSE of EX5 Kernel: {0:.2f} ± {1:.2f}\".format(np.mean(ex5_train), np.sqrt(np.var(ex5_train))))\n",
        "\n",
        "print(\"test MSE of EX5 Kernel: {0:.2f} ± {1:.2f}\".format(np.mean(ex5_test), np.sqrt(np.var(ex5_test))))"
      ]
    },
    {
      "cell_type": "markdown",
      "id": "Qb0lk74opf1p",
      "metadata": {
        "id": "Qb0lk74opf1p"
      },
      "source": [
        "## Part 2"
      ]
    },
    {
      "cell_type": "code",
      "execution_count": 10,
      "id": "pS6-3E-ipef2",
      "metadata": {
        "id": "pS6-3E-ipef2"
      },
      "outputs": [],
      "source": [
        "def gen_data(num):\n",
        "    '''\n",
        "    Generate data and labels for hypothesis (random h) with given sample numbers\n",
        "\n",
        "    Input: -num: int, number of samples\n",
        "\n",
        "    Output: -X: array of training data in h\n",
        "\n",
        "            -y: corresponded labels of X\n",
        "    '''\n",
        "    x1 = np.random.uniform(0,1,num)\n",
        "    x1 = np.expand_dims(x1, 1)\n",
        "    x2 = np.random.uniform(0,1,num)\n",
        "    x2 = np.expand_dims(x2, 1)\n",
        "    X = np.hstack((x1, x2))\n",
        "    y = np.zeros(num)\n",
        "    for i in range(num):\n",
        "        y[i] = np.random.randint(2)\n",
        "    return X, y\n",
        "\n",
        "def train_test_data(num, X_h, y_h, noise=0):\n",
        "    '''\n",
        "    Generate training/testing data and labels with given sample numbers and random h\n",
        "\n",
        "    Input: -num: int, number of samples\n",
        "\n",
        "           -X_h: 100 data points generated uniform randomly.\n",
        "\n",
        "           -y_h: corresponded 100 labels of data points \n",
        "\n",
        "           -noise: float in [0,1), noise when generating samples\n",
        "\n",
        "    Output: -X: array of data \n",
        "\n",
        "            -y data\n",
        "    '''\n",
        "    x1 = np.random.uniform(0,1,num)\n",
        "    x1 = np.expand_dims(x1, 1)\n",
        "    x2 = np.random.uniform(0,1,num)\n",
        "    x2 = np.expand_dims(x2, 1)\n",
        "    X = np.hstack((x1, x2))\n",
        "    y = np.zeros(num)\n",
        "    for i in range(num):\n",
        "        if np.random.binomial(1, noise):\n",
        "            y[i] = np.random.randint(2)\n",
        "        else:\n",
        "            y[i] = knn(X_h, y_h, X[i], 3)\n",
        "    return X, y\n",
        "\n",
        "def dist(xi, X_train, _type='L2'):\n",
        "    '''\n",
        "    Calculate distances between a point xi and all the other points\n",
        "\n",
        "    Input: -xi: array, one point among X data\n",
        "\n",
        "           -X_train: array, the input data\n",
        "\n",
        "           -_type: string, L1/L2, calculating method\n",
        "\n",
        "    Output: a list with distances\n",
        "    '''\n",
        "    dist_list = []\n",
        "    if _type == 'L2':\n",
        "        for i in range(len(X_train)):\n",
        "            dist_list.append(np.sum((xi - X_train[i])**2))\n",
        "        \n",
        "    if _type == 'L1':\n",
        "        for i in range(len(X_train)):\n",
        "            dist_list.append(np.sum(np.abs(xi - X_train[i])))\n",
        "    return np.array(dist_list)\n",
        "\n",
        "def predict(dist_list, y_train, k):\n",
        "    '''\n",
        "    Find k points with nearest distance(s)\n",
        "\n",
        "    Input: -dist_list: array, calculated distance list\n",
        "\n",
        "           -y_train: array, input training labels\n",
        "\n",
        "           -k: int, number of nearest neighbors\n",
        "\n",
        "    Output: index of k nearest points\n",
        "    '''\n",
        "    index_list = np.argsort(dist_list)\n",
        "    label_list = []\n",
        "    for i in range(k):\n",
        "        label_list.append(y_train[index_list[i]])\n",
        "    return np.argmax(np.bincount(label_list))\n",
        "\n",
        "def knn(X_train, y_train, x_test, k):\n",
        "    '''\n",
        "    K-NN method, for a given point, first calculate all distances, then find k nearest ones\n",
        "\n",
        "    Input: -X_train: array, training points generated by random h with noise\n",
        "\n",
        "           -y_train: array, training labels by random h with noise\n",
        "\n",
        "           -x_test: array, testing point\n",
        "\n",
        "           -k: int, k nearest neighbors\n",
        "\n",
        "    Output: list, k nearest points' index\n",
        "    '''\n",
        "    dist_list = dist(x_test, X_train, 'L1')\n",
        "    return predict(dist_list, y_train, k)\n",
        "\n",
        "def plot_h(X_train, y_train, k):\n",
        "    '''\n",
        "    Plot random h hypothesis space\n",
        "\n",
        "    Input: -X_train: array, training points generated by random h with noise\n",
        "    \n",
        "           -y_train: array, training labels by random h with noise\n",
        "\n",
        "           -k: int, k nearest neighbors\n",
        "\n",
        "    Output: Plot distribution of h_sv picture\n",
        "    '''\n",
        "    X_test, y_test = gen_data(10000)\n",
        "    label_list = []\n",
        "    for x in X_test:\n",
        "        label_list.append(knn(X_train, y_train, x, k))\n",
        "    plt.scatter(X_test[:,0], X_test[:,1], c=label_list, cmap='coolwarm')\n",
        "    plt.scatter(X_train[:, 0], X_train[:, 1], marker='x', c=y_train, cmap='plasma')\n",
        "    plt.savefig('Excercise6', dpi=1000)\n",
        "\n",
        "\n",
        "def label_mat(X_train, y_train, X_test):\n",
        "    '''\n",
        "    Find a label_matrix with size (1000, train_size)\n",
        "    each row represent the top train_size nearest label\n",
        "\n",
        "    Input: -X_train: array, training points generated by random h with noise\n",
        "\n",
        "           -y_train: array, training labels by random h with noise\n",
        "\n",
        "           -X_test: array testing points generated by random h with noise\n",
        "\n",
        "    Output: a matrix with size (1000, train_size)\n",
        "            each row represent the top train_size nearest label\n",
        "    '''\n",
        "    res = np.zeros((1000, len(y_train)), dtype=np.int64)\n",
        "    for idx, x in enumerate(X_test):\n",
        "        dist_list = dist(x, X_train, 'L2')\n",
        "        index_list = np.argsort(dist_list)\n",
        "        label_list = []\n",
        "        for i in range(len(y_train)):\n",
        "            label_list.append(y_train[index_list[i]])\n",
        "        res[idx] = label_list\n",
        "    return res\n",
        "\n",
        "\n",
        "def gen_error_list(X_h, y_h, train_size, k_list):\n",
        "    '''\n",
        "    Input: -X_h: 100 data points generated uniform randomly.\n",
        "    \n",
        "           -y_h: corresponded 100 labels of data points\n",
        "\n",
        "           -train_size: the size of training set\n",
        "\n",
        "           -k_list: list, a list containing range of k that we want to use in KNN\n",
        "\n",
        "    Output: -error_list: array, list containing generalization error list, \n",
        "                         each entry represents the generalization error \n",
        "                         averaged on 100 runs using specified k\n",
        "    '''\n",
        "    ### same dataset with different k value\n",
        "    error_list = np.zeros(len(k_list))\n",
        "    for epoch in range(100):\n",
        "        #1. sample h  h = knn(X_h, y_h, x_test, 3) 100, 3\n",
        "        #2. generate 4000 training data and 1000 testing data\n",
        "        X_train, y_train = train_test_data(train_size, X_h, y_h, noise=0.2)\n",
        "        X_test, y_test = train_test_data(1000, X_h, y_h, noise=0.2)\n",
        "\n",
        "        #3. error evaluation\n",
        "        label_matrix = label_mat(X_train, y_train, X_test)\n",
        "        k_error_list = []\n",
        "        \n",
        "        for k in k_list:\n",
        "            k_error = 0\n",
        "            for i in range(len(y_test)):\n",
        "                y_pred = np.argmax(np.bincount(label_matrix[i][:k]))\n",
        "                if y_pred != y_test[i]:\n",
        "                    k_error += 1\n",
        "            k_error_list.append(k_error/len(y_test))\n",
        "            \n",
        "        error_list += np.array(k_error_list)\n",
        "        \n",
        "    error_list/=100\n",
        "    \n",
        "    return error_list\n",
        "\n",
        "\n",
        "##########################################################################################################################################################################\n",
        "# Below functions are not used in excercise, but we tried to create a fast KNN algorithm\n",
        "#In traditional KNN, we have to compute the distance between the test data point and each of the training data points,\n",
        "#which is time-wasting, thus we come up with the idea of sampling.\n",
        "#When we have the test sample point, we locate the test point within the training sample,\n",
        "#then we enlarge the square range around test point, which can be regarded as sampling training samples around the specific test sample.\n",
        "#when the number of training points is larger than the largest value in k_list,\n",
        "#we stop the sampling process and apply knn within the sampled square. Thus we can speed up the process by calculating less distances.\n",
        "#However, this method has a disadvantage. If the nearest point has not appeared before we finished the construction of k_list, then we \n",
        "#may predict the label incorrectly because the iteration stops earlier. This is a method pursuing speed with compromise to the accuracy.\n",
        "##########################################################################################################################################################################\n",
        "# def fast_knn(X_train, y_train, x_test, k):\n",
        "#     x0_test, x1_test = x_test[0], x_test[1]\n",
        "#     new_X_train = []\n",
        "#     new_y_train = []\n",
        "#     epsilon = 0.2\n",
        "#     for idx, x_train in enumerate(X_train):\n",
        "#         x0_train, x1_train = x_train[0], x_train[1]\n",
        "#         if len(new_X_train) >= 50: # 2 50 -> k to speed up\n",
        "#             break\n",
        "#         if (x0_train >= x0_test and x0_train <= x0_test + epsilon) or (x0_train <= x0_test and x0_train >= x0_test - epsilon):\n",
        "#             if (x1_train >= x1_test and x1_train <= x1_test + epsilon) or (x1_train <= x1_test and x1_train >= x1_test - epsilon):\n",
        "#                 new_X_train.append(x_train)\n",
        "#                 new_y_train.append(y_train[idx])\n",
        "#     dist_list = dist(x_test, new_X_train, 'L2')\n",
        "#     return predict(dist_list, new_y_train, k)\n",
        "\n",
        "        \n",
        "# def fast_gen_error_list(X_h, y_h, train_size, k_list):\n",
        "#     error_list = []\n",
        "#     for k in k_list:\n",
        "#         error = 0\n",
        "#         for epoch in range(100):\n",
        "#             X_train, y_train = train_test_data(train_size, X_h, y_h, noise=0.2)\n",
        "#             X_test, y_test = train_test_data(1000, X_h, y_h, noise=0.2)\n",
        "#             #3. error evaluation\n",
        "#             one_run_error = 0\n",
        "#             for i in range(len(y_test)):\n",
        "#                 y_pred = fast_knn(X_train, y_train, X_test[i], k)\n",
        "#                 if y_pred != y_test[i]:\n",
        "#                     one_run_error += 1\n",
        "#             error += one_run_error/len(y_test)\n",
        "#         error_list.append(error/100)\n",
        "#     return error_list        \n",
        "\n"
      ]
    },
    {
      "cell_type": "markdown",
      "id": "U_NPhkCSpiuM",
      "metadata": {
        "id": "U_NPhkCSpiuM"
      },
      "source": [
        "### Excercise 6"
      ]
    },
    {
      "cell_type": "code",
      "execution_count": 11,
      "id": "TYM6NYRFrkWm",
      "metadata": {
        "id": "TYM6NYRFrkWm"
      },
      "outputs": [],
      "source": [
        "import numpy as np\n",
        "import matplotlib.pyplot as plt"
      ]
    },
    {
      "cell_type": "code",
      "execution_count": 12,
      "id": "SLs_5jvj6C_M",
      "metadata": {
        "colab": {
          "base_uri": "https://localhost:8080/",
          "height": 282
        },
        "id": "SLs_5jvj6C_M",
        "outputId": "6135c59b-41c2-43b7-86c5-e4607425532f"
      },
      "outputs": [
        {
          "data": {
            "text/plain": [
              "<matplotlib.collections.PathCollection at 0x7fd2f3d42dd0>"
            ]
          },
          "execution_count": 12,
          "metadata": {},
          "output_type": "execute_result"
        },
        {
          "data": {
            "image/png": "[encoded data removed]",
            "text/plain": [
              "<Figure size 432x288 with 1 Axes>"
            ]
          },
          "metadata": {
            "needs_background": "light"
          },
          "output_type": "display_data"
        }
      ],
      "source": [
        "### h distribution\n",
        "X_h, y_h = gen_data(100)\n",
        "plt.scatter(X_h[:, 0], X_h[:, 1], marker='o', c=y_h)"
      ]
    },
    {
      "cell_type": "code",
      "execution_count": null,
      "id": "TBCJf_Q9-Ovd",
      "metadata": {
        "colab": {
          "base_uri": "https://localhost:8080/",
          "height": 265
        },
        "id": "TBCJf_Q9-Ovd",
        "outputId": "a590f17e-eed1-48e1-bd6e-208758a2bc16"
      },
      "outputs": [
        {
          "data": {
            "image/png": "[encoded data removed]",
            "text/plain": [
              "<Figure size 432x288 with 1 Axes>"
            ]
          },
          "metadata": {
            "needs_background": "light"
          },
          "output_type": "display_data"
        }
      ],
      "source": [
        "### visualize h distribution\n",
        "plot_h(X_h, y_h, 3)"
      ]
    },
    {
      "cell_type": "markdown",
      "id": "7FRmEOvw-YY2",
      "metadata": {
        "id": "7FRmEOvw-YY2"
      },
      "source": [
        "### Excercise 7"
      ]
    },
    {
      "cell_type": "code",
      "execution_count": 4,
      "id": "BV319ZA2CCpL",
      "metadata": {
        "colab": {
          "base_uri": "https://localhost:8080/",
          "height": 279
        },
        "id": "BV319ZA2CCpL",
        "outputId": "e57070c1-fe8c-4aca-8e5b-942f86dc8d40"
      },
      "outputs": [
        {
          "data": {
            "image/png": "[encoded data removed]",
            "text/plain": [
              "<Figure size 432x288 with 1 Axes>"
            ]
          },
          "metadata": {
            "needs_background": "light"
          },
          "output_type": "display_data"
        }
      ],
      "source": [
        "#calculate the averaged generalization error for each k and plot the curve\n",
        "k_list = [i for i in range(1,50)]\n",
        "error_list = gen_error_list(X_h, y_h, 4000, k_list)\n",
        "#plot and save the figure\n",
        "plt.plot(k_list, error_list)\n",
        "plt.xlabel(\"K\")\n",
        "plt.ylabel(\"estimated generalization error\")\n",
        "plt.grid()\n",
        "plt.savefig(\"2-7\", dpi=500)\n",
        "plt.show()"
      ]
    },
    {
      "cell_type": "markdown",
      "id": "ALZfqs1WKS-g",
      "metadata": {
        "id": "ALZfqs1WKS-g"
      },
      "source": [
        "### Excercise 8"
      ]
    },
    {
      "cell_type": "code",
      "execution_count": 15,
      "id": "q9O-hb4s-2uM",
      "metadata": {
        "id": "q9O-hb4s-2uM"
      },
      "outputs": [],
      "source": [
        "#Define specific gen_error_list for Ex8, with an extra output optimal_k\n",
        "def gen_error_list(X_h, y_h, train_size, k_list):\n",
        "    '''\n",
        "    Input: -X_h: array, 100 data points generated uniform randomly.\n",
        "\n",
        "           -y_h: array, corresponded labels of X_h\n",
        "\n",
        "           -train_size: array, list containing sizes of training set that we want to test\n",
        "\n",
        "           -k_list: array, list containing number of k that we want to test\n",
        "\n",
        "    Output: -error_list: array, list containing generalization error list, \n",
        "                         each entry represents the generalization error \n",
        "                         averaged on 100 runs using specified k\n",
        "\n",
        "            -optimal_k: array, list containing optimal k value for each of the training size,\n",
        "                        averaged on 100 runs.\n",
        "    '''\n",
        "    error_list = np.zeros(len(k_list))\n",
        "    optimal_k = 0\n",
        "    for epoch in range(100):\n",
        "        #1. sample h  h = knn(X_h, y_h, x_test, 3) 100, 3\n",
        "        #2. generate 4000 training data and 1000 testing data\n",
        "        X_train, y_train = train_test_data(train_size, X_h, y_h, noise=0.2)\n",
        "        X_test, y_test = train_test_data(1000, X_h, y_h, noise=0.2)\n",
        "        #3. error evaluation\n",
        "        label_matrix = label_mat(X_train, y_train, X_test)\n",
        "        k_error_list = []\n",
        "        \n",
        "        for k in k_list:\n",
        "            k_error = 0\n",
        "            for i in range(len(y_test)):\n",
        "                y_pred = np.argmax(np.bincount(label_matrix[i][:k]))\n",
        "                if y_pred != y_test[i]:\n",
        "                    k_error += 1\n",
        "            k_error_list.append(k_error/len(y_test))\n",
        "        optimal_k += np.argmin(k_error_list)+1\n",
        "        error_list += np.array(k_error_list)\n",
        "    optimal_k /= 100\n",
        "    error_list /= 100\n",
        "    \n",
        "    return error_list, optimal_k"
      ]
    },
    {
      "cell_type": "code",
      "execution_count": 16,
      "id": "RPXI_aUvKVUH",
      "metadata": {
        "id": "RPXI_aUvKVUH"
      },
      "outputs": [],
      "source": [
        "#paramter initialization for Ex8\n",
        "train_size_list = [100]\n",
        "sub_list = [500*i for i in range(1, 9)]\n",
        "train_size_list.extend(sub_list)\n",
        "optimal_list = []\n",
        "k_list = [i for i in range(1,50)]"
      ]
    },
    {
      "cell_type": "code",
      "execution_count": null,
      "id": "7meMC-SbKoYo",
      "metadata": {
        "colab": {
          "base_uri": "https://localhost:8080/",
          "height": 379
        },
        "id": "7meMC-SbKoYo",
        "outputId": "60b1cd14-f664-4664-ad31-ec345e08d8e5"
      },
      "outputs": [],
      "source": [
        "#run process of Ex8\n",
        "for train_size in train_size_list:\n",
        "    _, optimal_k = gen_error_list(X_h, y_h, train_size, k_list)\n",
        "    optimal_list.append(optimal_k)\n",
        "#plot and save the figure for Ex8\n",
        "plt.plot(train_size_list, optimal_list)\n",
        "plt.xlabel(\"number of training samples m\")\n",
        "plt.ylabel(\"optimal K\")\n",
        "plt.grid()\n",
        "plt.savefig(\"2-8\", dpi=500)\n",
        "plt.show()"
      ]
    },
    {
      "cell_type": "code",
      "execution_count": 4,
      "id": "Vhm50febZNG6",
      "metadata": {
        "id": "Vhm50febZNG6"
      },
      "outputs": [],
      "source": [
        "import numpy as np\n",
        "a = np.ones((2, 2))\n",
        "b = np.ones((10, 2))\n",
        "res = np.zeros((2, 10))\n",
        "for i in range(len(a)):\n",
        "    res[i] = np.dot(b, a[i])"
      ]
    },
    {
      "cell_type": "code",
      "execution_count": 5,
      "id": "4daac04f",
      "metadata": {},
      "outputs": [
        {
          "data": {
            "text/plain": [
              "array([[2., 2., 2., 2., 2., 2., 2., 2., 2., 2.],\n",
              "       [2., 2., 2., 2., 2., 2., 2., 2., 2., 2.]])"
            ]
          },
          "execution_count": 5,
          "metadata": {},
          "output_type": "execute_result"
        }
      ],
      "source": [
        "res"
      ]
    },
    {
      "cell_type": "code",
      "execution_count": 9,
      "id": "c8e32694",
      "metadata": {},
      "outputs": [
        {
          "data": {
            "text/plain": [
              "(2,)"
            ]
          },
          "execution_count": 9,
          "metadata": {},
          "output_type": "execute_result"
        }
      ],
      "source": [
        "a = np.ones((2, 2))\n",
        "b = np.ones((10, 2))\n",
        "a[0].shape"
      ]
    },
    {
      "cell_type": "code",
      "execution_count": 13,
      "id": "c3c03ce6",
      "metadata": {},
      "outputs": [
        {
          "data": {
            "text/plain": [
              "1.0"
            ]
          },
          "execution_count": 13,
          "metadata": {},
          "output_type": "execute_result"
        }
      ],
      "source": [
        "np.exp(0)"
      ]
    },
    {
      "cell_type": "code",
      "execution_count": 26,
      "id": "356e1b84",
      "metadata": {},
      "outputs": [],
      "source": [
        "y = np.array([1, -1, 1])"
      ]
    },
    {
      "cell_type": "code",
      "execution_count": 27,
      "id": "3be84db9",
      "metadata": {},
      "outputs": [
        {
          "data": {
            "text/plain": [
              "array([[ 1, -1,  1],\n",
              "       [-1,  1, -1],\n",
              "       [ 1, -1,  1]])"
            ]
          },
          "execution_count": 27,
          "metadata": {},
          "output_type": "execute_result"
        }
      ],
      "source": [
        "np.outer(y, y)"
      ]
    },
    {
      "cell_type": "code",
      "execution_count": 29,
      "id": "fbca1fd7",
      "metadata": {},
      "outputs": [],
      "source": [
        "import cvxpy\n",
        "x = cvxpy.Variable(5)"
      ]
    },
    {
      "cell_type": "code",
      "execution_count": 30,
      "id": "fadd370c",
      "metadata": {},
      "outputs": [
        {
          "data": {
            "text/plain": [
              "(5,)"
            ]
          },
          "execution_count": 30,
          "metadata": {},
          "output_type": "execute_result"
        }
      ],
      "source": [
        "x.shape"
      ]
    },
    {
      "cell_type": "code",
      "execution_count": 31,
      "id": "3247000c",
      "metadata": {},
      "outputs": [
        {
          "data": {
            "text/plain": [
              "Variable((5,))"
            ]
          },
          "execution_count": 31,
          "metadata": {},
          "output_type": "execute_result"
        }
      ],
      "source": [
        "x.T"
      ]
    },
    {
      "cell_type": "code",
      "execution_count": 33,
      "id": "77d1df72",
      "metadata": {},
      "outputs": [
        {
          "data": {
            "text/plain": [
              "10.0"
            ]
          },
          "execution_count": 33,
          "metadata": {},
          "output_type": "execute_result"
        }
      ],
      "source": [
        "np.ones(10) @ np.ones(10)"
      ]
    },
    {
      "cell_type": "code",
      "execution_count": 34,
      "id": "95d713db",
      "metadata": {},
      "outputs": [
        {
          "data": {
            "text/plain": [
              "array([1., 1.])"
            ]
          },
          "execution_count": 34,
          "metadata": {},
          "output_type": "execute_result"
        }
      ],
      "source": [
        "np.ones(2) * np.ones(2)"
      ]
    },
    {
      "cell_type": "code",
      "execution_count": 36,
      "id": "aac379e1",
      "metadata": {},
      "outputs": [
        {
          "data": {
            "text/plain": [
              "array([[1., 1., 1., 1., 1., 1., 1., 1., 1., 1.],\n",
              "       [1., 1., 1., 1., 1., 1., 1., 1., 1., 1.]])"
            ]
          },
          "execution_count": 36,
          "metadata": {},
          "output_type": "execute_result"
        }
      ],
      "source": [
        "np.ones(2).reshape(-1, 1) * np.ones((2, 10))"
      ]
    },
    {
      "cell_type": "code",
      "execution_count": 37,
      "id": "9c305235",
      "metadata": {},
      "outputs": [
        {
          "data": {
            "text/plain": [
              "3"
            ]
          },
          "execution_count": 37,
          "metadata": {},
          "output_type": "execute_result"
        }
      ],
      "source": [
        "a = np.array([1,23,4,333,12])\n",
        "np.argmax(a)"
      ]
    },
    {
      "cell_type": "code",
      "execution_count": 39,
      "id": "063106bb",
      "metadata": {},
      "outputs": [
        {
          "data": {
            "text/plain": [
              "(9000, 4000)"
            ]
          },
          "execution_count": 39,
          "metadata": {},
          "output_type": "execute_result"
        }
      ],
      "source": [
        "from scipy.spatial.distance import cdist\n",
        "\n",
        "a = np.ones((9000, 10))\n",
        "b = np.ones((4000, 10))\n",
        "\n",
        "cdist(a, b).shape"
      ]
    },
    {
      "cell_type": "code",
      "execution_count": 42,
      "id": "d322f199",
      "metadata": {},
      "outputs": [
        {
          "data": {
            "text/plain": [
              "-3"
            ]
          },
          "execution_count": 42,
          "metadata": {},
          "output_type": "execute_result"
        }
      ],
      "source": [
        "a = np.array([[1,2],[-3, 4]])\n",
        "np.min(a)"
      ]
    },
    {
      "cell_type": "code",
      "execution_count": 45,
      "id": "2fda8793",
      "metadata": {},
      "outputs": [
        {
          "data": {
            "text/plain": [
              "1"
            ]
          },
          "execution_count": 45,
          "metadata": {},
          "output_type": "execute_result"
        }
      ],
      "source": [
        "np.argwhere(a == np.min(a))[0][0]"
      ]
    },
    {
      "cell_type": "code",
      "execution_count": 47,
      "id": "70ba38fe",
      "metadata": {},
      "outputs": [
        {
          "data": {
            "text/plain": [
              "1"
            ]
          },
          "execution_count": 47,
          "metadata": {},
          "output_type": "execute_result"
        }
      ],
      "source": [
        "np.max(np.array([1,1,1]))"
      ]
    },
    {
      "cell_type": "code",
      "execution_count": 48,
      "id": "25c433f0",
      "metadata": {},
      "outputs": [
        {
          "data": {
            "text/plain": [
              "array([ 1.        ,  3.33333333,  5.66666667,  8.        , 10.33333333,\n",
              "       12.66666667, 15.        ])"
            ]
          },
          "execution_count": 48,
          "metadata": {},
          "output_type": "execute_result"
        }
      ],
      "source": []
    },
    {
      "cell_type": "code",
      "execution_count": 49,
      "id": "d5932ba0",
      "metadata": {},
      "outputs": [
        {
          "data": {
            "text/plain": [
              "array([0.25      , 0.35355339, 0.5       , 0.70710678, 1.        ,\n",
              "       1.41421356, 2.        ])"
            ]
          },
          "execution_count": 49,
          "metadata": {},
          "output_type": "execute_result"
        }
      ],
      "source": [
        "(2.0**np.linspace(-2,1,7))"
      ]
    },
    {
      "cell_type": "code",
      "execution_count": 52,
      "id": "ed504057",
      "metadata": {},
      "outputs": [
        {
          "data": {
            "text/plain": [
              "5"
            ]
          },
          "execution_count": 52,
          "metadata": {},
          "output_type": "execute_result"
        }
      ],
      "source": [
        "np.random.randint(0, 10)"
      ]
    },
    {
      "cell_type": "code",
      "execution_count": 53,
      "id": "f7183b18",
      "metadata": {},
      "outputs": [
        {
          "data": {
            "text/plain": [
              "True"
            ]
          },
          "execution_count": 53,
          "metadata": {},
          "output_type": "execute_result"
        }
      ],
      "source": [
        "a = [[1,2]]\n",
        "[1,2] in a"
      ]
    },
    {
      "cell_type": "code",
      "execution_count": 54,
      "id": "6d3af622",
      "metadata": {},
      "outputs": [],
      "source": [
        "a = [1]\n",
        "\n",
        "b = a.pop(0)"
      ]
    },
    {
      "cell_type": "code",
      "execution_count": 55,
      "id": "f0e27fc0",
      "metadata": {},
      "outputs": [
        {
          "data": {
            "text/plain": [
              "1"
            ]
          },
          "execution_count": 55,
          "metadata": {},
          "output_type": "execute_result"
        }
      ],
      "source": [
        "b"
      ]
    },
    {
      "cell_type": "code",
      "execution_count": 56,
      "id": "d70ad585",
      "metadata": {},
      "outputs": [
        {
          "data": {
            "text/plain": [
              "[]"
            ]
          },
          "execution_count": 56,
          "metadata": {},
          "output_type": "execute_result"
        }
      ],
      "source": [
        "a"
      ]
    },
    {
      "cell_type": "code",
      "execution_count": null,
      "id": "ef94fcc3",
      "metadata": {},
      "outputs": [],
      "source": []
    }
  ],
  "metadata": {
    "colab": {
      "collapsed_sections": [],
      "name": "Supervised_Learning_Course_Work1_Notebook_202122_21069508_21136404.ipynb",
      "provenance": []
    },
    "kernelspec": {
      "display_name": "Python 3",
      "language": "python",
      "name": "python3"
    },
    "language_info": {
      "codemirror_mode": {
        "name": "ipython",
        "version": 3
      },
      "file_extension": ".py",
      "mimetype": "text/x-python",
      "name": "python",
      "nbconvert_exporter": "python",
      "pygments_lexer": "ipython3",
      "version": "3.9.7"
    }
  },
  "nbformat": 4,
  "nbformat_minor": 5
}
